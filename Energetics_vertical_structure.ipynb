{
 "cells": [
  {
   "cell_type": "code",
   "execution_count": 3,
   "metadata": {},
   "outputs": [
    {
     "name": "stdin",
     "output_type": "stream",
     "text": [
      "Once deleted, variables cannot be recovered. Proceed (y/[n])?  y\n"
     ]
    }
   ],
   "source": [
    "%reset\n",
    "%matplotlib inline\n",
    "import numpy as np\n",
    "import matplotlib.pyplot as plt\n",
    "import xarray as xr\n",
    "import cartopy.crs as ccrs\n",
    "import netCDF4 as nc\n",
    "import matplotlib.ticker as mticker\n",
    "import warnings; warnings.filterwarnings('ignore')\n",
    "import cmocean"
   ]
  },
  {
   "cell_type": "code",
   "execution_count": 4,
   "metadata": {},
   "outputs": [],
   "source": [
    "import matplotlib.colors as colors\n",
    "\n",
    "class MidpointNormalize(colors.Normalize):\n",
    "    def __init__(self, vmin=None, vmax=None, midpoint=None, clip=False):\n",
    "        self.midpoint = midpoint\n",
    "        colors.Normalize.__init__(self, vmin, vmax, clip)\n",
    "\n",
    "    def __call__(self, value, clip=None):\n",
    "        # I'm ignoring masked values and all kinds of edge cases to make a\n",
    "        # simple example...\n",
    "        x, y = [self.vmin, self.midpoint, self.vmax], [0, 0.5, 1]\n",
    "        return np.ma.masked_array(np.interp(value, x, y))"
   ]
  },
  {
   "cell_type": "markdown",
   "metadata": {},
   "source": [
    "## Reading in 1/4, 1/8, or 1/16 degree NW2 data:"
   ]
  },
  {
   "cell_type": "code",
   "execution_count": 31,
   "metadata": {},
   "outputs": [
    {
     "name": "stdout",
     "output_type": "stream",
     "text": [
      "/glade/p/univ/unyu0004/neerajab/NeverWorld2\n",
      "/glade/p/univ/unyu0004/eyankovsky/NeverWorld_analysis\n"
     ]
    }
   ],
   "source": [
    "%cd /glade/p/univ/unyu0004/neerajab/NeverWorld2/\n",
    "#run=20; factor = (72/86400) #1/4 degree NeverWorld2setup, factor is for the e^2 diagnostic which has an error associated with it.\n",
    "#run=26; factor = (192/86400) #1/8 degree NeverWorld2 setup, factor is for the e^2 diagnostic which has an error associated with it.\n",
    "run=28; factor = (540/86400) #1/16 degree NeverWorld2 setup,factor is for the e^2 diagnostic which has an error associated with it.\n",
    "fs=xr.open_dataset('run%i/static.nc' % (run), decode_times=False)\n",
    "os=xr.open_dataset('run%i/ocean.stats.nc' % (run), decode_times=False)\n",
    "forcing=xr.open_dataset('run%i/forcing_00000500.nc' % (run), decode_times=False)\n",
    "init=xr.open_dataset('run%i/MOM_IC.nc'% (run), decode_times=False)\n",
    "tau = 500*86400\n",
    "end_time = 30500\n",
    "start_time = end_time - tau/86400\n",
    "\n",
    "sn     = xr.open_dataset('run%i/snapshots_000%i.nc' % (run, end_time-500+5), decode_times=False) #snapshot\n",
    "av     = xr.open_dataset('run%i/averages_000%i.nc' % (run, end_time-500+2), decode_times=False)  #5-day average\n",
    "\n",
    "%cd /glade/p/univ/unyu0004/eyankovsky/NeverWorld_analysis/\n",
    "#print(fs)"
   ]
  },
  {
   "cell_type": "markdown",
   "metadata": {},
   "source": [
    "### Looking at several 1/4 degree tests for the Coriolis discretization."
   ]
  },
  {
   "cell_type": "code",
   "execution_count": 5,
   "metadata": {},
   "outputs": [
    {
     "name": "stdout",
     "output_type": "stream",
     "text": [
      "/glade/p/univ/unyu0004/gmarques/NeverWorld2/nw2_0.25deg_N15_AH90_begw01_laplacian\n",
      "/glade/p/univ/unyu0004/eyankovsky/NeverWorld_analysis\n",
      "<xarray.Dataset>\n",
      "Dimensions:      (time: 1, xh: 240, xq: 241, yh: 560, yq: 561)\n",
      "Coordinates:\n",
      "  * xh           (xh) float64 0.125 0.375 0.625 0.875 ... 59.38 59.62 59.88\n",
      "  * yh           (yh) float64 -69.88 -69.62 -69.38 -69.12 ... 69.38 69.62 69.88\n",
      "  * time         (time) float64 0.0\n",
      "  * xq           (xq) float64 0.0 0.25 0.5 0.75 1.0 ... 59.25 59.5 59.75 60.0\n",
      "  * yq           (yq) float64 -70.0 -69.75 -69.5 -69.25 ... 69.5 69.75 70.0\n",
      "Data variables:\n",
      "    geolon       (yh, xh) float64 ...\n",
      "    geolat       (yh, xh) float64 ...\n",
      "    geolon_c     (yq, xq) float32 ...\n",
      "    geolat_c     (yq, xq) float32 ...\n",
      "    geolon_u     (yh, xq) float32 ...\n",
      "    geolat_u     (yh, xq) float32 ...\n",
      "    geolon_v     (yq, xh) float32 ...\n",
      "    geolat_v     (yq, xh) float32 ...\n",
      "    area_t       (yh, xh) float64 ...\n",
      "    area_u       (yh, xq) float64 ...\n",
      "    area_v       (yq, xh) float64 ...\n",
      "    dyCu         (yh, xq) float64 ...\n",
      "    dxCv         (yq, xh) float64 ...\n",
      "    dxCu         (yh, xq) float64 ...\n",
      "    dyCv         (yq, xh) float64 ...\n",
      "    depth_ocean  (yh, xh) float32 ...\n",
      "    wet          (yh, xh) float64 ...\n",
      "    wet_c        (yq, xq) float32 ...\n",
      "    wet_u        (yh, xq) float32 ...\n",
      "    wet_v        (yq, xh) float32 ...\n",
      "    Coriolis     (yq, xq) float32 ...\n",
      "Attributes:\n",
      "    filename:   static.nc\n",
      "    title:      NeverWorld2\n",
      "    grid_type:  regular\n",
      "    grid_tile:  N/A\n"
     ]
    }
   ],
   "source": [
    "#simple coriolis where CORIOLIS_EN_DISS and BOUND_CORIOLIS are set to false:\n",
    "# %cd /glade/p/univ/unyu0004/gmarques/NeverWorld2/nw2_0.25deg_N15_simpleCoriolis\n",
    "# forcing=xr.open_dataset('forcing_00033000.nc', decode_times=False)\n",
    "# fs=xr.open_dataset('static.nc', decode_times=False)\n",
    "# os=xr.open_dataset('ocean.stats.nc', decode_times=False)\n",
    "# av     = xr.open_dataset('averages_00032502.nc', decode_times=False)  #5-day average\n",
    "# %cd /glade/p/univ/unyu0004/eyankovsky/NeverWorld_analysis/\n",
    "\n",
    "#simple coriolis and also BEGW parameter is 0.1 (related to gravity wave time stepping weight)\n",
    "# %cd /glade/p/univ/unyu0004/gmarques/NeverWorld2/nw2_0.25deg_N15_AH90_begw01\n",
    "# forcing=xr.open_dataset('forcing_00033000.nc', decode_times=False)\n",
    "# fs=xr.open_dataset('static.nc', decode_times=False)\n",
    "# os=xr.open_dataset('ocean.stats.nc', decode_times=False)\n",
    "# av     = xr.open_dataset('averages_00032502.nc', decode_times=False)  #5-day average\n",
    "# %cd /glade/p/univ/unyu0004/eyankovsky/NeverWorld_analysis/\n",
    "\n",
    "#simple coriolis and also BEGW parameter is 0.1 (related to gravity wave time stepping weight) \n",
    "## WE ARE NOT USING SMAGORINSKY VISCOSITY HERE, ONLY LAPLACIAN\n",
    "%cd /glade/p/univ/unyu0004/gmarques/NeverWorld2/nw2_0.25deg_N15_AH90_begw01_laplacian\n",
    "forcing=xr.open_dataset('forcing_00033000.nc', decode_times=False)\n",
    "fs=xr.open_dataset('static.nc', decode_times=False)\n",
    "os=xr.open_dataset('ocean.stats.nc', decode_times=False)\n",
    "av     = xr.open_dataset('averages_00032502.nc', decode_times=False)  #5-day average\n",
    "%cd /glade/p/univ/unyu0004/eyankovsky/NeverWorld_analysis/\n",
    "\n",
    "\n",
    "print(fs)"
   ]
  },
  {
   "cell_type": "markdown",
   "metadata": {},
   "source": [
    "### Looking at several 1/16 degree test cases (simple Coriolis, then simple Coriolis with BEGW=0.1, then a case with a different energetics scheme (Sadourny instead of AH90)). "
   ]
  },
  {
   "cell_type": "code",
   "execution_count": 87,
   "metadata": {},
   "outputs": [
    {
     "name": "stdout",
     "output_type": "stream",
     "text": [
      "/glade/p/univ/unyu0004/adcroft/NeverWorld2/nw2_0.0625deg_N15_AH90_begw01\n",
      "/glade/p/univ/unyu0004/eyankovsky/NeverWorld_analysis\n"
     ]
    }
   ],
   "source": [
    "# %cd /glade/p/univ/unyu0004/adcroft/NeverWorld2/nw2_0.0625deg_N15_simpleCoriolis/\n",
    "# fs=xr.open_dataset('static.nc', decode_times=False)\n",
    "# os=xr.open_dataset('ocean.stats.nc', decode_times=False)\n",
    "# forcing=xr.open_dataset('forcing_00033000.nc', decode_times=False)\n",
    "# av   = xr.open_dataset('averages_00032502.nc', decode_times=False)  #5-day average\n",
    "# %cd /glade/p/univ/unyu0004/eyankovsky/NeverWorld_analysis/\n",
    "\n",
    "%cd /glade/p/univ/unyu0004/adcroft/NeverWorld2/nw2_0.0625deg_N15_AH90_begw01\n",
    "fs=xr.open_dataset('static.nc', decode_times=False)\n",
    "os=xr.open_dataset('ocean.stats.nc', decode_times=False)\n",
    "forcing=xr.open_dataset('forcing_00033000.nc', decode_times=False)\n",
    "av   = xr.open_dataset('averages_00032502.nc', decode_times=False)  #5-day average\n",
    "%cd /glade/p/univ/unyu0004/eyankovsky/NeverWorld_analysis/\n",
    "\n",
    "# %cd /glade/p/univ/unyu0004/adcroft/NeverWorld2/nw2_0.0625deg_N15_SadournyEnergy\n",
    "# fs=xr.open_dataset('static.nc', decode_times=False)\n",
    "# os=xr.open_dataset('ocean.stats.nc', decode_times=False)\n",
    "# forcing=xr.open_dataset('forcing_00033000.nc', decode_times=False)\n",
    "# av   = xr.open_dataset('averages_00032502.nc', decode_times=False)  #5-day average\n",
    "# %cd /glade/p/univ/unyu0004/eyankovsky/NeverWorld_analysis/"
   ]
  },
  {
   "cell_type": "markdown",
   "metadata": {},
   "source": [
    "## For reading in the 1/32 degree NW2 data:"
   ]
  },
  {
   "cell_type": "code",
   "execution_count": 47,
   "metadata": {},
   "outputs": [
    {
     "name": "stdout",
     "output_type": "stream",
     "text": [
      "/glade/p/univ/unyu0004/neerajab/NeverWorld2\n",
      "/glade/p/univ/unyu0004/eyankovsky/NeverWorld_analysis\n"
     ]
    }
   ],
   "source": [
    "%cd /glade/p/univ/unyu0004/neerajab/NeverWorld2/\n",
    "run=33; factor = 1440/86400 #1/32 degree NeverWorld setup\n",
    "fs=xr.open_dataset('run%i/static.nc' % (run), decode_times=False)\n",
    "os=xr.open_dataset('run%i/ocean.stats.nc' % (run), decode_times=False)\n",
    "forcing=xr.open_dataset('run%i/forcing_00002000.nc' % (run), decode_times=False)\n",
    "init=xr.open_dataset('run33/MOM_IC.nc', decode_times=False)\n",
    "av=xr.open_mfdataset(['run33/averages_00001502.nc','run33/averages_00001602.nc', 'run33/averages_00001702.nc', 'run33/averages_00001802.nc', 'run33/averages_00001902.nc'],decode_times=False,combine='by_coords')\n",
    "# print(av)\n",
    "%cd /glade/p/univ/unyu0004/eyankovsky/NeverWorld_analysis/"
   ]
  },
  {
   "cell_type": "code",
   "execution_count": null,
   "metadata": {},
   "outputs": [],
   "source": []
  },
  {
   "cell_type": "code",
   "execution_count": null,
   "metadata": {},
   "outputs": [],
   "source": []
  },
  {
   "cell_type": "code",
   "execution_count": 6,
   "metadata": {},
   "outputs": [
    {
     "name": "stdout",
     "output_type": "stream",
     "text": [
      "[1.0226e+03 2.1000e-01 3.9000e-01 5.4000e-01 5.8000e-01 5.8000e-01\n",
      " 5.7000e-01 5.3000e-01 4.8000e-01 4.2000e-01 3.7000e-01 3.1000e-01\n",
      " 2.4000e-01 1.7000e-01 1.1000e-01]\n"
     ]
    }
   ],
   "source": [
    "#Read in various grid variables from the static file and forcing:\n",
    "lon=fs['geolon']; lat=fs['geolat']\n",
    "depth = np.array(fs['depth_ocean'])\n",
    "#depthmat = np.tile(depth,[15,1,1])\n",
    "area_t=np.array(fs['area_t'])\n",
    "\n",
    "xh = fs.xh.values\n",
    "yh = fs.yh.values\n",
    "dxh = fs.dxCu.values; dxh = dxh[:,1:] #(dxh[1:,:]+dxh[:-1,:])/2.\n",
    "dyh = fs.dyCv.values; dyh = dyh[1:,:] #dyh = (dyh[:,1:]+dyh[:,:-1])/2.\n",
    "\n",
    "Layer = np.array(os['Layer']);\n",
    "drho=np.zeros(15);\n",
    "drho[0]=Layer[0]; drho[1:]=np.diff(Layer)\n",
    "print(drho); #drho contains the density differences across each interface. 15 entries, includes surface but not bottom.\n",
    "#drhomat=np.transpose(np.tile(drho,[len(yh),len(xh),1]),[2,0,1])"
   ]
  },
  {
   "cell_type": "code",
   "execution_count": 7,
   "metadata": {},
   "outputs": [],
   "source": [
    "#1/4 degree:560 lat x 240 lon \n",
    "#60,460 in 1/4 degree is nominal analysis point!\n",
    "index_lon=60; index_lat=460 #1/4 degree: NW(60,460), ACC(60,80), (120,80), (200,80); Midlat: (60 or 120,400)\n"
   ]
  },
  {
   "cell_type": "code",
   "execution_count": 8,
   "metadata": {},
   "outputs": [
    {
     "data": {
      "image/png": "[encoded data removed]",
      "text/plain": [
       "<Figure size 320x560 with 2 Axes>"
      ]
     },
     "metadata": {},
     "output_type": "display_data"
    }
   ],
   "source": [
    "#Plotting ocean depth\n",
    "fig = plt.figure(figsize=(4, 7), dpi= 80, facecolor='w', edgecolor='k')\n",
    "ax1 = fig.add_axes([0.15,0.2,0.6,0.7]) \n",
    "ax2 = fig.add_axes([.78, 0.2, 0.03, 0.7])\n",
    "ax1.set_facecolor((0.92, 0.92, 0.92))\n",
    "ax1.set_title('Ocean depth (m)',fontsize=20)\n",
    "ax1.set_xlabel('Longitude',fontsize=16)\n",
    "ax1.set_ylabel('Latitude',fontsize=16)\n",
    "ax1.tick_params(labelsize=16); \n",
    "ax2.tick_params(labelsize=14)\n",
    "\n",
    "plotted =ax1.pcolor(xh,yh,depth,cmap=cmocean.cm.turbid)\n",
    "ax1.plot(xh[index_lon],yh[index_lat],'*',markersize=15,color=[0.8, 0.8, 0.8])\n",
    "ax1.set_aspect('equal', 'box')\n",
    "cbar = plt.colorbar(mappable=plotted, cax=ax2, orientation = 'vertical');\n",
    "cbar.ax.tick_params(labelsize=14);\n",
    "#\n",
    "plt.show()\n",
    "#fig.savefig('topography.png')"
   ]
  },
  {
   "cell_type": "code",
   "execution_count": null,
   "metadata": {},
   "outputs": [],
   "source": []
  },
  {
   "cell_type": "markdown",
   "metadata": {},
   "source": [
    "## Reading in KE budget terms"
   ]
  },
  {
   "cell_type": "code",
   "execution_count": 107,
   "metadata": {},
   "outputs": [],
   "source": [
    "#For entire water column:\n",
    "\n",
    "box = 32; #half of number of grid points  of box over which we average\n",
    "KEterm1 = (av['dKE_dt'][:,:,index_lat-box:index_lat+box,index_lon-box:index_lon+box]).mean(axis=2).mean(axis=2)\n",
    "#assuming all of these are on the RHS of the KE equation\n",
    "KEterm2 = (av['KE_CorAdv'][:,:,index_lat-box:index_lat+box,index_lon-box:index_lon+box]).mean(axis=2).mean(axis=2)\n",
    "KEterm2_alternate = (av['KE_adv'][:,:,index_lat-box:index_lat+box,index_lon-box:index_lon+box]).mean(axis=2).mean(axis=2)\n",
    "KEterm3 = (av['PE_to_KE'][:,:,index_lat-box:index_lat+box,index_lon-box:index_lon+box]).mean(axis=2).mean(axis=2)\n",
    "KEterm4 = (av['KE_BT'][:,:,index_lat-box:index_lat+box,index_lon-box:index_lon+box]).mean(axis=2).mean(axis=2)\n",
    "KEterm5 = (av['KE_visc'][:,:,index_lat-box:index_lat+box,index_lon-box:index_lon+box]).mean(axis=2).mean(axis=2)\n",
    "KEterm6 = (av['KE_horvisc'][:,:,index_lat-box:index_lat+box,index_lon-box:index_lon+box]).mean(axis=2).mean(axis=2)\n",
    "\n",
    "\n",
    "KEterm1 = KEterm1.mean(axis=0);\n",
    "KEterm2 = KEterm2.mean(axis=0);\n",
    "KEterm2_alternate = (KEterm2_alternate).mean(axis=0);\n",
    "KEterm3 = KEterm3.mean(axis=0);\n",
    "KEterm4 = KEterm4.mean(axis=0);\n",
    "KEterm5 = KEterm5.mean(axis=0);\n",
    "KEterm6 = KEterm6.mean(axis=0);\n",
    "\n",
    "E = KEterm1-KEterm2-KEterm3-KEterm4-KEterm5-KEterm6 #residual term between dKE/dt and RHS of equation\n",
    "E_alternate = KEterm1-KEterm2_alternate-KEterm3-KEterm4-KEterm5-KEterm6\n",
    "\n",
    "# #For entire water column at one point:\n",
    "\n",
    "# KEterm1 = (av['dKE_dt'][:,:,index_lat,index_lon])\n",
    "# #assuming all of these are on the RHS of the KE equation\n",
    "# KEterm2 = (av['KE_CorAdv'][:,:,index_lat,index_lon])\n",
    "# KEterm2_alternate = (av['KE_adv'][:,:,index_lat,index_lon])\n",
    "# KEterm3 = (av['PE_to_KE'][:,:,index_lat,index_lon])\n",
    "# KEterm4 = (av['KE_BT'][:,:,index_lat,index_lon])\n",
    "# KEterm5 = (av['KE_visc'][:,:,index_lat,index_lon])\n",
    "# KEterm6 = (av['KE_horvisc'][:,:,index_lat,index_lon])\n",
    "\n",
    "# KEterm1 = KEterm1.mean(axis=0);\n",
    "# KEterm2 = KEterm2.mean(axis=0);\n",
    "# KEterm2_alternate = (KEterm2_alternate).mean(axis=0);\n",
    "# KEterm3 = KEterm3.mean(axis=0);\n",
    "# KEterm4 = KEterm4.mean(axis=0);\n",
    "# KEterm5 = KEterm5.mean(axis=0);\n",
    "# KEterm6 = KEterm6.mean(axis=0);\n",
    "\n",
    "# E = KEterm1-KEterm2-KEterm3-KEterm4-KEterm5-KEterm6 #residual term between dKE/dt and RHS of equation\n",
    "# E_alternate = KEterm1-KEterm2_alternate-KEterm3-KEterm4-KEterm5-KEterm6\n"
   ]
  },
  {
   "cell_type": "code",
   "execution_count": null,
   "metadata": {},
   "outputs": [],
   "source": [
    "h = np.array(av['h'][:,:,index_lat,index_lon]);\n",
    "eta = np.zeros([100,len(Layer)]);\n",
    "\n",
    "for i in range(0,len(Layer)):\n",
    "    for j in range(0,100):\n",
    "        eta[j,i]=np.nansum(h[j,0:i+1])  \n",
    "    print(i)\n",
    "    \n",
    "eta[:,:-1]=(eta[:,1:]+eta[:,:-1])/2. #add bottom BC point at topography where u,v=0"
   ]
  },
  {
   "cell_type": "code",
   "execution_count": null,
   "metadata": {},
   "outputs": [],
   "source": [
    "zl = np.nanmean(eta,axis=0)\n",
    "zl.shape\n",
    "\n"
   ]
  },
  {
   "cell_type": "code",
   "execution_count": null,
   "metadata": {},
   "outputs": [],
   "source": [
    "plt.figure(figsize=(6, 6), dpi= 100, facecolor='w', edgecolor='k')\n",
    "plt.plot(KEterm1,-zl,'-',c='#117733',linewidth=4)\n",
    "plt.plot(KEterm2-KEterm2_alternate,-zl,'-',c='#60D55D',linewidth=4)\n",
    "plt.plot(KEterm2_alternate,-zl,'-',c='#ddcc77',linewidth=4)\n",
    "plt.plot(KEterm3+KEterm4,-zl,'-',c='#cc6677',linewidth=4)\n",
    "plt.plot(KEterm5,-zl,'-',c='#332288',linewidth=4)\n",
    "plt.plot(KEterm6,-zl,'-',c='#88ccee',linewidth=4)\n",
    "plt.plot(E,-zl,':',c='k',linewidth=3)\n",
    "\n",
    "\n",
    "\n",
    "\n",
    "\n",
    "plt.grid()\n",
    "plt.legend(['Time tendency','Advection: KE_Cor','Advection: KE_Adv','Conversion','Vert. visc','Hor. visc','Residual'],fontsize=12)\n",
    "#plt.plot([0, 0],[-100, 100],'--',color=[0,0,0])\n",
    "plt.xlim(-1e-5, 1e-5)\n",
    "plt.ylim(-3600,0);\n",
    "plt.ticklabel_format(axis=\"x\", style=\"sci\", scilimits=(0,0))\n",
    "plt.xlabel('$m^3/s^3$',fontsize=12)\n",
    "plt.ylabel('Depth [m]',fontsize=12)\n",
    "plt.title('1/4$^\\circ$ KE budget terms',fontsize=14)"
   ]
  },
  {
   "cell_type": "code",
   "execution_count": null,
   "metadata": {},
   "outputs": [],
   "source": [
    "plt.figure(figsize=(6, 6), dpi= 100, facecolor='w', edgecolor='k')\n",
    "plt.plot(KEterm1,-zl,'-',c='#117733',linewidth=4)\n",
    "plt.plot(KEterm2-KEterm2_alternate,-zl,'-',c='#60D55D',linewidth=4)\n",
    "plt.plot(KEterm2_alternate,-zl,'-',c='#ddcc77',linewidth=4)\n",
    "plt.plot(KEterm3+KEterm4,-zl,'-',c='#cc6677',linewidth=4)\n",
    "plt.plot(KEterm5,-zl,'-',c='#332288',linewidth=4)\n",
    "plt.plot(KEterm6,-zl,'-',c='#88ccee',linewidth=4)\n",
    "plt.plot(E,-zl,':',c='k',linewidth=3)\n",
    "\n",
    "\n",
    "\n",
    "\n",
    "\n",
    "plt.grid()\n",
    "plt.legend(['Time tendency','Advection: KE_Cor','Advection: KE_Adv','Conversion','Vert. visc','Hor. visc','Residual'],fontsize=12)\n",
    "#plt.plot([0, 0],[-100, 100],'--',color=[0,0,0])\n",
    "plt.xlim(-1e-5, 1e-5)\n",
    "plt.ylim(-3600,0);\n",
    "plt.ticklabel_format(axis=\"x\", style=\"sci\", scilimits=(0,0))\n",
    "plt.xlabel('$m^3/s^3$',fontsize=12)\n",
    "plt.ylabel('Depth [m]',fontsize=12)\n",
    "plt.title('1/16$^\\circ$ KE budget terms',fontsize=14)"
   ]
  },
  {
   "cell_type": "code",
   "execution_count": null,
   "metadata": {},
   "outputs": [],
   "source": [
    "print('done')"
   ]
  },
  {
   "cell_type": "code",
   "execution_count": null,
   "metadata": {},
   "outputs": [],
   "source": []
  },
  {
   "cell_type": "code",
   "execution_count": null,
   "metadata": {},
   "outputs": [],
   "source": []
  },
  {
   "cell_type": "code",
   "execution_count": null,
   "metadata": {},
   "outputs": [],
   "source": []
  },
  {
   "cell_type": "code",
   "execution_count": null,
   "metadata": {},
   "outputs": [],
   "source": []
  }
 ],
 "metadata": {
  "kernelspec": {
   "display_name": "Python 3",
   "language": "python",
   "name": "python3"
  },
  "language_info": {
   "codemirror_mode": {
    "name": "ipython",
    "version": 3
   },
   "file_extension": ".py",
   "mimetype": "text/x-python",
   "name": "python",
   "nbconvert_exporter": "python",
   "pygments_lexer": "ipython3",
   "version": "3.7.9"
  }
 },
 "nbformat": 4,
 "nbformat_minor": 4
}
