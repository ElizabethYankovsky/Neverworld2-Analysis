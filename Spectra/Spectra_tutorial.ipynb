{
 "cells": [
  {
   "cell_type": "code",
   "execution_count": 53,
   "metadata": {},
   "outputs": [],
   "source": [
    "import numpy as np\n",
    "import numpy.testing as npt\n",
    "import xarray as xr\n",
    "import xrft\n",
    "import numpy.fft as npft\n",
    "import scipy.signal as signal\n",
    "import dask.array as dsar\n",
    "import matplotlib.pyplot as plt\n",
    "%matplotlib inline"
   ]
  },
  {
   "cell_type": "markdown",
   "metadata": {},
   "source": [
    "### Create synthetic data, beginning with defining wavenumbers and then populating them."
   ]
  },
  {
   "cell_type": "code",
   "execution_count": 54,
   "metadata": {},
   "outputs": [
    {
     "data": {
      "text/plain": [
       "256"
      ]
     },
     "execution_count": 54,
     "metadata": {},
     "output_type": "execute_result"
    }
   ],
   "source": [
    "nx = 256;\n",
    "L = 2*np.pi;\n",
    "x = np.linspace(0,L*(nx-1)/nx,nx)\n",
    "dx = 2*np.pi/nx;     # L_domain = 2*np.pi\n",
    "\n",
    "len(x)"
   ]
  },
  {
   "cell_type": "markdown",
   "metadata": {},
   "source": [
    "### With a domain of 2pi, the minimum resolved wavenumber is k=1, integer wavenumbers fit in the domain, and with nx points in x, the maximum resolved wavenumber is: "
   ]
  },
  {
   "cell_type": "code",
   "execution_count": 55,
   "metadata": {},
   "outputs": [
    {
     "name": "stdout",
     "output_type": "stream",
     "text": [
      "127.0\n"
     ]
    }
   ],
   "source": [
    "kmax = nx/2 - 1\n",
    "print(kmax)"
   ]
  },
  {
   "cell_type": "markdown",
   "metadata": {},
   "source": [
    "### Populate these wavenumbers in the signal. We add a small non-integer wavenumber to make it non-periodic with a large-scale trend; leaving the smallest 4 wavenumbers zeroed out so that the perfect result would show a peak at wavenumber 5, and leaving off a few wavenumbers at the smallest scales"
   ]
  },
  {
   "cell_type": "code",
   "execution_count": 56,
   "metadata": {},
   "outputs": [
    {
     "data": {
      "text/plain": [
       "array([ 0.1,  5. ,  6. ,  7. ,  8. ,  9. , 10. , 11. , 12. , 13. , 14. ,\n",
       "       15. , 16. , 17. , 18. , 19. , 20. , 21. , 22. , 23. , 24. , 25. ,\n",
       "       26. , 27. , 28. , 29. , 30. , 31. , 32. , 33. , 34. , 35. , 36. ,\n",
       "       37. , 38. , 39. , 40. , 41. , 42. , 43. , 44. , 45. , 46. , 47. ,\n",
       "       48. , 49. , 50. , 51. , 52. , 53. , 54. , 55. , 56. , 57. , 58. ,\n",
       "       59. , 60. , 61. , 62. , 63. , 64. , 65. , 66. , 67. , 68. , 69. ,\n",
       "       70. , 71. , 72. , 73. , 74. , 75. , 76. , 77. , 78. , 79. , 80. ,\n",
       "       81. , 82. , 83. , 84. , 85. , 86. , 87. , 88. , 89. , 90. , 91. ,\n",
       "       92. , 93. , 94. , 95. , 96. , 97. ])"
      ]
     },
     "execution_count": 56,
     "metadata": {},
     "output_type": "execute_result"
    }
   ],
   "source": [
    "kvec = np.concatenate(([.1], np.arange(5,kmax+1-30,1)));\n",
    "#kvec = [5:kmax-30]; #try this to see a periodic signal\n",
    "kvec"
   ]
  },
  {
   "cell_type": "markdown",
   "metadata": {},
   "source": [
    "### Make a signal with random phases at each wavenumber and a spectral slope given by b:"
   ]
  },
  {
   "cell_type": "code",
   "execution_count": 52,
   "metadata": {},
   "outputs": [
    {
     "name": "stdout",
     "output_type": "stream",
     "text": [
      "(256,)\n"
     ]
    }
   ],
   "source": [
    "b=-1\n",
    "f=np.zeros(x.shape)\n",
    "print(f.shape)"
   ]
  },
  {
   "cell_type": "code",
   "execution_count": null,
   "metadata": {},
   "outputs": [],
   "source": []
  },
  {
   "cell_type": "code",
   "execution_count": 48,
   "metadata": {},
   "outputs": [
    {
     "data": {
      "text/plain": [
       "1"
      ]
     },
     "execution_count": 48,
     "metadata": {},
     "output_type": "execute_result"
    }
   ],
   "source": [
    "x"
   ]
  },
  {
   "cell_type": "code",
   "execution_count": null,
   "metadata": {},
   "outputs": [],
   "source": []
  },
  {
   "cell_type": "code",
   "execution_count": null,
   "metadata": {},
   "outputs": [],
   "source": []
  },
  {
   "cell_type": "code",
   "execution_count": null,
   "metadata": {},
   "outputs": [],
   "source": []
  }
 ],
 "metadata": {
  "kernelspec": {
   "display_name": "Python 3",
   "language": "python",
   "name": "python3"
  },
  "language_info": {
   "codemirror_mode": {
    "name": "ipython",
    "version": 3
   },
   "file_extension": ".py",
   "mimetype": "text/x-python",
   "name": "python",
   "nbconvert_exporter": "python",
   "pygments_lexer": "ipython3",
   "version": "3.7.9"
  }
 },
 "nbformat": 4,
 "nbformat_minor": 4
}
