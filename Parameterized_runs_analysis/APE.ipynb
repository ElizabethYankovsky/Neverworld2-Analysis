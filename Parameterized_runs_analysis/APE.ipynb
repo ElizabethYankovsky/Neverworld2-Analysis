{
 "cells": [
  {
   "cell_type": "code",
   "execution_count": 1,
   "metadata": {},
   "outputs": [
    {
     "name": "stdin",
     "output_type": "stream",
     "text": [
      "Once deleted, variables cannot be recovered. Proceed (y/[n])?  y\n"
     ]
    }
   ],
   "source": [
    "%reset\n",
    "%matplotlib inline\n",
    "import numpy as np\n",
    "import matplotlib.pyplot as plt\n",
    "import xarray as xr\n",
    "import cartopy.crs as ccrs\n",
    "import netCDF4 as nc\n",
    "import matplotlib.ticker as mticker\n",
    "import warnings; warnings.filterwarnings('ignore')\n",
    "import cmocean\n",
    "from xgcm import Grid\n",
    "import gcm_filters"
   ]
  },
  {
   "cell_type": "markdown",
   "metadata": {},
   "source": [
    "## Reading in data for 1/2 degree parameterized runs:\n"
   ]
  },
  {
   "cell_type": "code",
   "execution_count": 9,
   "metadata": {},
   "outputs": [
    {
     "name": "stdout",
     "output_type": "stream",
     "text": [
      "/glade/p/univ/unyu0004/eyankovsky/MEKE_testing/MEKE_test27\n",
      "/glade/p/univ/unyu0004/eyankovsky/NeverWorld_analysis\n"
     ]
    }
   ],
   "source": [
    "# ##Unparameterized run\n",
    "# %cd /glade/p/univ/unyu0004/eyankovsky/MEKE_testing/default_noparameterization\n",
    "# fs = xr.open_dataset('static.nc', decode_times=False)\n",
    "# av =xr.open_dataset('averages_00031502.nc',decode_times=False)\n",
    "# os = xr.open_dataset('ocean.stats.nc', decode_times=False)\n",
    "\n",
    "# #Contains default setup based on Jansen et al 2019. MEKE_VISCOSITY_COEFF_KU = -0.15; MEKE_KHCOEFF = 0.15 BAROTROPIC BACKSCATTER\n",
    "# %cd /glade/p/univ/unyu0004/eyankovsky/MEKE_testing/BTBS_default\n",
    "# fs=xr.open_dataset('static.nc', decode_times=False)\n",
    "# av=xr.open_dataset('averages_00031502.nc',decode_times=False)\n",
    "\n",
    "\n",
    "# # MEKE_VISCOSITY_COEFF_KU = -0.15; MEKE_KHCOEFF = 0.3\n",
    "# %cd /glade/p/univ/unyu0004/eyankovsky/MEKE_testing/BTBS_test1\n",
    "# fs=xr.open_dataset('static.nc', decode_times=False)\n",
    "# av=xr.open_dataset('averages_00031502.nc',decode_times=False)\n",
    "\n",
    "\n",
    "# ## MEKE_VISCOSITY_COEFF_KU = -0.15; MEKE_KHCOEFF = 0.5\n",
    "# %cd /glade/p/univ/unyu0004/eyankovsky/MEKE_testing/BTBS_test2\n",
    "# fs=xr.open_dataset('static.nc', decode_times=False)\n",
    "# av=xr.open_dataset('averages_00031502.nc',decode_times=False)\n",
    "\n",
    "\n",
    "# # MEKE_VISCOSITY_COEFF_KU = -0.3; MEKE_KHCOEFF = 0.15\n",
    "# %cd /glade/p/univ/unyu0004/eyankovsky/MEKE_testing/BTBS_test3\n",
    "# fs=xr.open_dataset('static.nc', decode_times=False)\n",
    "# av=xr.open_dataset('averages_00031502.nc',decode_times=False)\n",
    "\n",
    "\n",
    "# # MEKE_VISCOSITY_COEFF_KU = -0.5; MEKE_KHCOEFF = 0.15\n",
    "# %cd /glade/p/univ/unyu0004/eyankovsky/MEKE_testing/BTBS_test4\n",
    "# fs=xr.open_dataset('static.nc', decode_times=False)\n",
    "# av=xr.open_dataset('averages_00031502.nc',decode_times=False)\n",
    "\n",
    "\n",
    "# # MEKE_VISCOSITY_COEFF_KU = -0.3; MEKE_KHCOEFF = 0.3\n",
    "# %cd /glade/p/univ/unyu0004/eyankovsky/MEKE_testing/BTBS_test5\n",
    "# fs=xr.open_dataset('static.nc', decode_times=False)\n",
    "# av=xr.open_dataset('averages_00031502.nc',decode_times=False)\n",
    "\n",
    "\n",
    "# ## MEKE_VISCOSITY_COEFF_KU = -0.5; MEKE_KHCOEFF = 0.5\n",
    "# %cd /glade/p/univ/unyu0004/eyankovsky/MEKE_testing/BTBS_test6\n",
    "# fs=xr.open_dataset('static.nc', decode_times=False)\n",
    "# av=xr.open_dataset('averages_00031502.nc',decode_times=False)\n",
    "\n",
    "# ## MEKE_VISCOSITY_COEFF_KU = -0.0; MEKE_KHCOEFF = 0.5  HERE USE MEKE CASE\n",
    "# %cd /glade/p/univ/unyu0004/eyankovsky/MEKE_testing/MEKE_test7\n",
    "# fs=xr.open_dataset('static.nc', decode_times=False)\n",
    "# av=xr.open_dataset('averages_00031502.nc',decode_times=False)\n",
    "\n",
    "# ## MEKE_VISCOSITY_COEFF_KU = -0.0; MEKE_KHCOEFF = 0.6 HERE USE MEKE CASE\n",
    "# %cd /glade/p/univ/unyu0004/eyankovsky/MEKE_testing/MEKE_test8\n",
    "# fs=xr.open_dataset('static.nc', decode_times=False)\n",
    "# av=xr.open_dataset('averages_00031502.nc',decode_times=False)\n",
    "\n",
    "# ## MEKE_VISCOSITY_COEFF_KU = -0.0; MEKE_KHCOEFF = 0.8  HERE USE MEKE CASE\n",
    "# %cd /glade/p/univ/unyu0004/eyankovsky/MEKE_testing/MEKE_test9\n",
    "# fs=xr.open_dataset('static.nc', decode_times=False)\n",
    "# av=xr.open_dataset('averages_00031502.nc',decode_times=False)\n",
    "\n",
    "# ## MEKE_VISCOSITY_COEFF_KU = -0.3; MEKE_KHCOEFF = 0.5\n",
    "# %cd /glade/p/univ/unyu0004/eyankovsky/MEKE_testing/BTBS_test10\n",
    "# fs=xr.open_dataset('static.nc', decode_times=False)\n",
    "# av=xr.open_dataset('averages_00031502.nc',decode_times=False)\n",
    "\n",
    "# ## MEKE_VISCOSITY_COEFF_KU = -0.5; MEKE_KHCOEFF = 0.3\n",
    "# %cd /glade/p/univ/unyu0004/eyankovsky/MEKE_testing/BTBS_test11\n",
    "# fs=xr.open_dataset('static.nc', decode_times=False)\n",
    "# av=xr.open_dataset('averages_00031502.nc',decode_times=False)\n",
    "\n",
    "# ## MEKE_VISCOSITY_COEFF_KU = -0.6; MEKE_KHCOEFF = 0.6\n",
    "# %cd /glade/p/univ/unyu0004/eyankovsky/MEKE_testing/BTBS_test12\n",
    "# fs=xr.open_dataset('static.nc', decode_times=False)\n",
    "# av=xr.open_dataset('averages_00031502.nc',decode_times=False)\n",
    "\n",
    "# ## MEKE_VISCOSITY_COEFF_KU = -0.8; MEKE_KHCOEFF = 0.8\n",
    "# %cd /glade/p/univ/unyu0004/eyankovsky/MEKE_testing/BTBS_test13\n",
    "# fs=xr.open_dataset('static.nc', decode_times=False)\n",
    "# av=xr.open_dataset('averages_00031502.nc',decode_times=False)\n",
    "\n",
    "# ## MEKE_VISCOSITY_COEFF_KU = -0.2; MEKE_KHCOEFF = 0.2\n",
    "# %cd /glade/p/univ/unyu0004/eyankovsky/MEKE_testing/BTBS_test14\n",
    "# fs=xr.open_dataset('static.nc', decode_times=False)\n",
    "# av=xr.open_dataset('averages_00031502.nc',decode_times=False)\n",
    "\n",
    "# ## MEKE_VISCOSITY_COEFF_KU = -0.15; MEKE_KHCOEFF = 0\n",
    "# %cd /glade/p/univ/unyu0004/eyankovsky/MEKE_testing/BTBS_test15\n",
    "# fs=xr.open_dataset('static.nc', decode_times=False)\n",
    "# av=xr.open_dataset('averages_00031502.nc',decode_times=False)\n",
    "\n",
    "# ## MEKE_VISCOSITY_COEFF_KU = -0.3; MEKE_KHCOEFF = 0\n",
    "# %cd /glade/p/univ/unyu0004/eyankovsky/MEKE_testing/BTBS_test16\n",
    "# fs=xr.open_dataset('static.nc', decode_times=False)\n",
    "# av=xr.open_dataset('averages_00031502.nc',decode_times=False)\n",
    "\n",
    "\n",
    "# ## MEKE_VISCOSITY_COEFF_KU = -0.3; MEKE_KHCOEFF = 0\n",
    "# %cd /glade/p/univ/unyu0004/eyankovsky/MEKE_testing/BTBS_test20\n",
    "# fs=xr.open_dataset('static.nc', decode_times=False)\n",
    "# av=xr.open_dataset('averages_00031502.nc',decode_times=False)\n",
    "\n",
    "# ## MEKE_VISCOSITY_COEFF_KU = -0.6; MEKE_KHCOEFF = 0.15\n",
    "# %cd /glade/p/univ/unyu0004/eyankovsky/MEKE_testing/BTBS_test21\n",
    "# fs=xr.open_dataset('static.nc', decode_times=False)\n",
    "# av=xr.open_dataset('averages_00031502.nc',decode_times=False)\n",
    "\n",
    "# ## MEKE_VISCOSITY_COEFF_KU = -0.8; MEKE_KHCOEFF = 0.15\n",
    "# %cd /glade/p/univ/unyu0004/eyankovsky/MEKE_testing/BTBS_test22\n",
    "# fs=xr.open_dataset('static.nc', decode_times=False)\n",
    "# av=xr.open_dataset('averages_00031502.nc',decode_times=False)\n",
    "\n",
    "# ## MEKE_VISCOSITY_COEFF_KU = -1; MEKE_KHCOEFF = 0.15\n",
    "# %cd /glade/p/univ/unyu0004/eyankovsky/MEKE_testing/BTBS_test23\n",
    "# fs=xr.open_dataset('static.nc', decode_times=False)\n",
    "# av=xr.open_dataset('averages_00031502.nc',decode_times=False)\n",
    "\n",
    "\n",
    "# ## MEKE_VISCOSITY_COEFF_KU = -0; MEKE_KHCOEFF = 0.15  HERE USE MEKE CASE\n",
    "# %cd /glade/p/univ/unyu0004/eyankovsky/MEKE_testing/MEKE_test24\n",
    "# fs=xr.open_dataset('static.nc', decode_times=False)\n",
    "# av=xr.open_dataset('averages_00031502.nc',decode_times=False)\n",
    "\n",
    "# ## MEKE_VISCOSITY_COEFF_KU = -0; MEKE_KHCOEFF = 0.3  HERE USE MEKE CASE\n",
    "# %cd /glade/p/univ/unyu0004/eyankovsky/MEKE_testing/MEKE_test25\n",
    "# fs=xr.open_dataset('static.nc', decode_times=False)\n",
    "# av=xr.open_dataset('averages_00031502.nc',decode_times=False)\n",
    "\n",
    "# ## MEKE_VISCOSITY_COEFF_KU = -0.1; MEKE_KHCOEFF = 0\n",
    "# %cd /glade/p/univ/unyu0004/eyankovsky/MEKE_testing/BTBS_test26\n",
    "# fs=xr.open_dataset('static.nc', decode_times=False)\n",
    "# av=xr.open_dataset('averages_00031502.nc',decode_times=False)\n",
    "\n",
    "## MEKE_VISCOSITY_COEFF_KU = -0.2; MEKE_KHCOEFF = 0\n",
    "%cd /glade/p/univ/unyu0004/eyankovsky/MEKE_testing/MEKE_test27\n",
    "fs=xr.open_dataset('static.nc', decode_times=False)\n",
    "av=xr.open_dataset('averages_00031502.nc',decode_times=False)\n",
    "os = xr.open_dataset('ocean.stats.nc', decode_times=False)\n",
    "\n",
    "\n",
    "%cd /glade/p/univ/unyu0004/eyankovsky/NeverWorld_analysis/\n",
    "\n"
   ]
  },
  {
   "cell_type": "markdown",
   "metadata": {},
   "source": [
    "## Reading in data for baseline cases:"
   ]
  },
  {
   "cell_type": "code",
   "execution_count": 2,
   "metadata": {},
   "outputs": [
    {
     "name": "stdout",
     "output_type": "stream",
     "text": [
      "/glade/p/univ/unyu0004/gmarques/NeverWorld2/baselines/nw2_0.125deg_N15_baseline_hmix5\n"
     ]
    },
    {
     "ename": "PermissionError",
     "evalue": "[Errno 13] Permission denied: b'/glade/p/univ/unyu0004/gmarques/NeverWorld2/baselines/nw2_0.125deg_N15_baseline_hmix5/averages_00004502.nc'",
     "output_type": "error",
     "traceback": [
      "\u001b[0;31m---------------------------------------------------------------------------\u001b[0m",
      "\u001b[0;31mKeyError\u001b[0m                                  Traceback (most recent call last)",
      "\u001b[0;32m/glade/work/eyankovsky/my_npl_clone/lib/python3.7/site-packages/xarray/backends/file_manager.py\u001b[0m in \u001b[0;36m_acquire_with_cache_info\u001b[0;34m(self, needs_lock)\u001b[0m\n\u001b[1;32m    198\u001b[0m             \u001b[0;32mtry\u001b[0m\u001b[0;34m:\u001b[0m\u001b[0;34m\u001b[0m\u001b[0;34m\u001b[0m\u001b[0m\n\u001b[0;32m--> 199\u001b[0;31m                 \u001b[0mfile\u001b[0m \u001b[0;34m=\u001b[0m \u001b[0mself\u001b[0m\u001b[0;34m.\u001b[0m\u001b[0m_cache\u001b[0m\u001b[0;34m[\u001b[0m\u001b[0mself\u001b[0m\u001b[0;34m.\u001b[0m\u001b[0m_key\u001b[0m\u001b[0;34m]\u001b[0m\u001b[0;34m\u001b[0m\u001b[0;34m\u001b[0m\u001b[0m\n\u001b[0m\u001b[1;32m    200\u001b[0m             \u001b[0;32mexcept\u001b[0m \u001b[0mKeyError\u001b[0m\u001b[0;34m:\u001b[0m\u001b[0;34m\u001b[0m\u001b[0;34m\u001b[0m\u001b[0m\n",
      "\u001b[0;32m/glade/work/eyankovsky/my_npl_clone/lib/python3.7/site-packages/xarray/backends/lru_cache.py\u001b[0m in \u001b[0;36m__getitem__\u001b[0;34m(self, key)\u001b[0m\n\u001b[1;32m     52\u001b[0m         \u001b[0;32mwith\u001b[0m \u001b[0mself\u001b[0m\u001b[0;34m.\u001b[0m\u001b[0m_lock\u001b[0m\u001b[0;34m:\u001b[0m\u001b[0;34m\u001b[0m\u001b[0;34m\u001b[0m\u001b[0m\n\u001b[0;32m---> 53\u001b[0;31m             \u001b[0mvalue\u001b[0m \u001b[0;34m=\u001b[0m \u001b[0mself\u001b[0m\u001b[0;34m.\u001b[0m\u001b[0m_cache\u001b[0m\u001b[0;34m[\u001b[0m\u001b[0mkey\u001b[0m\u001b[0;34m]\u001b[0m\u001b[0;34m\u001b[0m\u001b[0;34m\u001b[0m\u001b[0m\n\u001b[0m\u001b[1;32m     54\u001b[0m             \u001b[0mself\u001b[0m\u001b[0;34m.\u001b[0m\u001b[0m_cache\u001b[0m\u001b[0;34m.\u001b[0m\u001b[0mmove_to_end\u001b[0m\u001b[0;34m(\u001b[0m\u001b[0mkey\u001b[0m\u001b[0;34m)\u001b[0m\u001b[0;34m\u001b[0m\u001b[0;34m\u001b[0m\u001b[0m\n",
      "\u001b[0;31mKeyError\u001b[0m: [<class 'netCDF4._netCDF4.Dataset'>, ('/glade/p/univ/unyu0004/gmarques/NeverWorld2/baselines/nw2_0.125deg_N15_baseline_hmix5/averages_00004502.nc',), 'r', (('clobber', True), ('diskless', False), ('format', 'NETCDF4'), ('persist', False))]",
      "\nDuring handling of the above exception, another exception occurred:\n",
      "\u001b[0;31mPermissionError\u001b[0m                           Traceback (most recent call last)",
      "\u001b[0;32m<ipython-input-2-20ac2c022ee2>\u001b[0m in \u001b[0;36m<module>\u001b[0;34m\u001b[0m\n\u001b[1;32m     10\u001b[0m \u001b[0mfs\u001b[0m \u001b[0;34m=\u001b[0m \u001b[0mxr\u001b[0m\u001b[0;34m.\u001b[0m\u001b[0mopen_dataset\u001b[0m\u001b[0;34m(\u001b[0m\u001b[0;34m'static.nc'\u001b[0m\u001b[0;34m,\u001b[0m \u001b[0mdecode_times\u001b[0m\u001b[0;34m=\u001b[0m\u001b[0;32mFalse\u001b[0m\u001b[0;34m)\u001b[0m\u001b[0;34m\u001b[0m\u001b[0;34m\u001b[0m\u001b[0m\n\u001b[1;32m     11\u001b[0m \u001b[0mos\u001b[0m \u001b[0;34m=\u001b[0m \u001b[0mxr\u001b[0m\u001b[0;34m.\u001b[0m\u001b[0mopen_mfdataset\u001b[0m\u001b[0;34m(\u001b[0m\u001b[0;34m[\u001b[0m\u001b[0;34m'sub01/ocean.stats.nc'\u001b[0m\u001b[0;34m,\u001b[0m\u001b[0;34m'sub02/ocean.stats.nc'\u001b[0m\u001b[0;34m]\u001b[0m\u001b[0;34m,\u001b[0m \u001b[0mdecode_times\u001b[0m\u001b[0;34m=\u001b[0m\u001b[0;32mFalse\u001b[0m\u001b[0;34m)\u001b[0m\u001b[0;34m\u001b[0m\u001b[0;34m\u001b[0m\u001b[0m\n\u001b[0;32m---> 12\u001b[0;31m \u001b[0mav\u001b[0m \u001b[0;34m=\u001b[0m \u001b[0mxr\u001b[0m\u001b[0;34m.\u001b[0m\u001b[0mopen_dataset\u001b[0m\u001b[0;34m(\u001b[0m\u001b[0;34m'averages_00004502.nc'\u001b[0m\u001b[0;34m,\u001b[0m \u001b[0mdecode_times\u001b[0m\u001b[0;34m=\u001b[0m\u001b[0;32mFalse\u001b[0m\u001b[0;34m)\u001b[0m\u001b[0;34m\u001b[0m\u001b[0;34m\u001b[0m\u001b[0m\n\u001b[0m\u001b[1;32m     13\u001b[0m \u001b[0;34m\u001b[0m\u001b[0m\n\u001b[1;32m     14\u001b[0m \u001b[0;31m# # #1/16 degree resolution, surface diagnostics are for uppermost 5 meters.\u001b[0m\u001b[0;34m\u001b[0m\u001b[0;34m\u001b[0m\u001b[0;34m\u001b[0m\u001b[0m\n",
      "\u001b[0;32m/glade/work/eyankovsky/my_npl_clone/lib/python3.7/site-packages/xarray/backends/api.py\u001b[0m in \u001b[0;36mopen_dataset\u001b[0;34m(filename_or_obj, group, decode_cf, mask_and_scale, decode_times, autoclose, concat_characters, decode_coords, engine, chunks, lock, cache, drop_variables, backend_kwargs, use_cftime, decode_timedelta)\u001b[0m\n\u001b[1;32m    570\u001b[0m \u001b[0;34m\u001b[0m\u001b[0m\n\u001b[1;32m    571\u001b[0m         \u001b[0mopener\u001b[0m \u001b[0;34m=\u001b[0m \u001b[0m_get_backend_cls\u001b[0m\u001b[0;34m(\u001b[0m\u001b[0mengine\u001b[0m\u001b[0;34m)\u001b[0m\u001b[0;34m\u001b[0m\u001b[0;34m\u001b[0m\u001b[0m\n\u001b[0;32m--> 572\u001b[0;31m         \u001b[0mstore\u001b[0m \u001b[0;34m=\u001b[0m \u001b[0mopener\u001b[0m\u001b[0;34m(\u001b[0m\u001b[0mfilename_or_obj\u001b[0m\u001b[0;34m,\u001b[0m \u001b[0;34m**\u001b[0m\u001b[0mextra_kwargs\u001b[0m\u001b[0;34m,\u001b[0m \u001b[0;34m**\u001b[0m\u001b[0mbackend_kwargs\u001b[0m\u001b[0;34m)\u001b[0m\u001b[0;34m\u001b[0m\u001b[0;34m\u001b[0m\u001b[0m\n\u001b[0m\u001b[1;32m    573\u001b[0m \u001b[0;34m\u001b[0m\u001b[0m\n\u001b[1;32m    574\u001b[0m     \u001b[0;32mwith\u001b[0m \u001b[0mclose_on_error\u001b[0m\u001b[0;34m(\u001b[0m\u001b[0mstore\u001b[0m\u001b[0;34m)\u001b[0m\u001b[0;34m:\u001b[0m\u001b[0;34m\u001b[0m\u001b[0;34m\u001b[0m\u001b[0m\n",
      "\u001b[0;32m/glade/work/eyankovsky/my_npl_clone/lib/python3.7/site-packages/xarray/backends/netCDF4_.py\u001b[0m in \u001b[0;36mopen\u001b[0;34m(cls, filename, mode, format, group, clobber, diskless, persist, lock, lock_maker, autoclose)\u001b[0m\n\u001b[1;32m    362\u001b[0m             \u001b[0mnetCDF4\u001b[0m\u001b[0;34m.\u001b[0m\u001b[0mDataset\u001b[0m\u001b[0;34m,\u001b[0m \u001b[0mfilename\u001b[0m\u001b[0;34m,\u001b[0m \u001b[0mmode\u001b[0m\u001b[0;34m=\u001b[0m\u001b[0mmode\u001b[0m\u001b[0;34m,\u001b[0m \u001b[0mkwargs\u001b[0m\u001b[0;34m=\u001b[0m\u001b[0mkwargs\u001b[0m\u001b[0;34m\u001b[0m\u001b[0;34m\u001b[0m\u001b[0m\n\u001b[1;32m    363\u001b[0m         )\n\u001b[0;32m--> 364\u001b[0;31m         \u001b[0;32mreturn\u001b[0m \u001b[0mcls\u001b[0m\u001b[0;34m(\u001b[0m\u001b[0mmanager\u001b[0m\u001b[0;34m,\u001b[0m \u001b[0mgroup\u001b[0m\u001b[0;34m=\u001b[0m\u001b[0mgroup\u001b[0m\u001b[0;34m,\u001b[0m \u001b[0mmode\u001b[0m\u001b[0;34m=\u001b[0m\u001b[0mmode\u001b[0m\u001b[0;34m,\u001b[0m \u001b[0mlock\u001b[0m\u001b[0;34m=\u001b[0m\u001b[0mlock\u001b[0m\u001b[0;34m,\u001b[0m \u001b[0mautoclose\u001b[0m\u001b[0;34m=\u001b[0m\u001b[0mautoclose\u001b[0m\u001b[0;34m)\u001b[0m\u001b[0;34m\u001b[0m\u001b[0;34m\u001b[0m\u001b[0m\n\u001b[0m\u001b[1;32m    365\u001b[0m \u001b[0;34m\u001b[0m\u001b[0m\n\u001b[1;32m    366\u001b[0m     \u001b[0;32mdef\u001b[0m \u001b[0m_acquire\u001b[0m\u001b[0;34m(\u001b[0m\u001b[0mself\u001b[0m\u001b[0;34m,\u001b[0m \u001b[0mneeds_lock\u001b[0m\u001b[0;34m=\u001b[0m\u001b[0;32mTrue\u001b[0m\u001b[0;34m)\u001b[0m\u001b[0;34m:\u001b[0m\u001b[0;34m\u001b[0m\u001b[0;34m\u001b[0m\u001b[0m\n",
      "\u001b[0;32m/glade/work/eyankovsky/my_npl_clone/lib/python3.7/site-packages/xarray/backends/netCDF4_.py\u001b[0m in \u001b[0;36m__init__\u001b[0;34m(self, manager, group, mode, lock, autoclose)\u001b[0m\n\u001b[1;32m    312\u001b[0m         \u001b[0mself\u001b[0m\u001b[0;34m.\u001b[0m\u001b[0m_group\u001b[0m \u001b[0;34m=\u001b[0m \u001b[0mgroup\u001b[0m\u001b[0;34m\u001b[0m\u001b[0;34m\u001b[0m\u001b[0m\n\u001b[1;32m    313\u001b[0m         \u001b[0mself\u001b[0m\u001b[0;34m.\u001b[0m\u001b[0m_mode\u001b[0m \u001b[0;34m=\u001b[0m \u001b[0mmode\u001b[0m\u001b[0;34m\u001b[0m\u001b[0;34m\u001b[0m\u001b[0m\n\u001b[0;32m--> 314\u001b[0;31m         \u001b[0mself\u001b[0m\u001b[0;34m.\u001b[0m\u001b[0mformat\u001b[0m \u001b[0;34m=\u001b[0m \u001b[0mself\u001b[0m\u001b[0;34m.\u001b[0m\u001b[0mds\u001b[0m\u001b[0;34m.\u001b[0m\u001b[0mdata_model\u001b[0m\u001b[0;34m\u001b[0m\u001b[0;34m\u001b[0m\u001b[0m\n\u001b[0m\u001b[1;32m    315\u001b[0m         \u001b[0mself\u001b[0m\u001b[0;34m.\u001b[0m\u001b[0m_filename\u001b[0m \u001b[0;34m=\u001b[0m \u001b[0mself\u001b[0m\u001b[0;34m.\u001b[0m\u001b[0mds\u001b[0m\u001b[0;34m.\u001b[0m\u001b[0mfilepath\u001b[0m\u001b[0;34m(\u001b[0m\u001b[0;34m)\u001b[0m\u001b[0;34m\u001b[0m\u001b[0;34m\u001b[0m\u001b[0m\n\u001b[1;32m    316\u001b[0m         \u001b[0mself\u001b[0m\u001b[0;34m.\u001b[0m\u001b[0mis_remote\u001b[0m \u001b[0;34m=\u001b[0m \u001b[0mis_remote_uri\u001b[0m\u001b[0;34m(\u001b[0m\u001b[0mself\u001b[0m\u001b[0;34m.\u001b[0m\u001b[0m_filename\u001b[0m\u001b[0;34m)\u001b[0m\u001b[0;34m\u001b[0m\u001b[0;34m\u001b[0m\u001b[0m\n",
      "\u001b[0;32m/glade/work/eyankovsky/my_npl_clone/lib/python3.7/site-packages/xarray/backends/netCDF4_.py\u001b[0m in \u001b[0;36mds\u001b[0;34m(self)\u001b[0m\n\u001b[1;32m    371\u001b[0m     \u001b[0;34m@\u001b[0m\u001b[0mproperty\u001b[0m\u001b[0;34m\u001b[0m\u001b[0;34m\u001b[0m\u001b[0m\n\u001b[1;32m    372\u001b[0m     \u001b[0;32mdef\u001b[0m \u001b[0mds\u001b[0m\u001b[0;34m(\u001b[0m\u001b[0mself\u001b[0m\u001b[0;34m)\u001b[0m\u001b[0;34m:\u001b[0m\u001b[0;34m\u001b[0m\u001b[0;34m\u001b[0m\u001b[0m\n\u001b[0;32m--> 373\u001b[0;31m         \u001b[0;32mreturn\u001b[0m \u001b[0mself\u001b[0m\u001b[0;34m.\u001b[0m\u001b[0m_acquire\u001b[0m\u001b[0;34m(\u001b[0m\u001b[0;34m)\u001b[0m\u001b[0;34m\u001b[0m\u001b[0;34m\u001b[0m\u001b[0m\n\u001b[0m\u001b[1;32m    374\u001b[0m \u001b[0;34m\u001b[0m\u001b[0m\n\u001b[1;32m    375\u001b[0m     \u001b[0;32mdef\u001b[0m \u001b[0mopen_store_variable\u001b[0m\u001b[0;34m(\u001b[0m\u001b[0mself\u001b[0m\u001b[0;34m,\u001b[0m \u001b[0mname\u001b[0m\u001b[0;34m,\u001b[0m \u001b[0mvar\u001b[0m\u001b[0;34m)\u001b[0m\u001b[0;34m:\u001b[0m\u001b[0;34m\u001b[0m\u001b[0;34m\u001b[0m\u001b[0m\n",
      "\u001b[0;32m/glade/work/eyankovsky/my_npl_clone/lib/python3.7/site-packages/xarray/backends/netCDF4_.py\u001b[0m in \u001b[0;36m_acquire\u001b[0;34m(self, needs_lock)\u001b[0m\n\u001b[1;32m    365\u001b[0m \u001b[0;34m\u001b[0m\u001b[0m\n\u001b[1;32m    366\u001b[0m     \u001b[0;32mdef\u001b[0m \u001b[0m_acquire\u001b[0m\u001b[0;34m(\u001b[0m\u001b[0mself\u001b[0m\u001b[0;34m,\u001b[0m \u001b[0mneeds_lock\u001b[0m\u001b[0;34m=\u001b[0m\u001b[0;32mTrue\u001b[0m\u001b[0;34m)\u001b[0m\u001b[0;34m:\u001b[0m\u001b[0;34m\u001b[0m\u001b[0;34m\u001b[0m\u001b[0m\n\u001b[0;32m--> 367\u001b[0;31m         \u001b[0;32mwith\u001b[0m \u001b[0mself\u001b[0m\u001b[0;34m.\u001b[0m\u001b[0m_manager\u001b[0m\u001b[0;34m.\u001b[0m\u001b[0macquire_context\u001b[0m\u001b[0;34m(\u001b[0m\u001b[0mneeds_lock\u001b[0m\u001b[0;34m)\u001b[0m \u001b[0;32mas\u001b[0m \u001b[0mroot\u001b[0m\u001b[0;34m:\u001b[0m\u001b[0;34m\u001b[0m\u001b[0;34m\u001b[0m\u001b[0m\n\u001b[0m\u001b[1;32m    368\u001b[0m             \u001b[0mds\u001b[0m \u001b[0;34m=\u001b[0m \u001b[0m_nc4_require_group\u001b[0m\u001b[0;34m(\u001b[0m\u001b[0mroot\u001b[0m\u001b[0;34m,\u001b[0m \u001b[0mself\u001b[0m\u001b[0;34m.\u001b[0m\u001b[0m_group\u001b[0m\u001b[0;34m,\u001b[0m \u001b[0mself\u001b[0m\u001b[0;34m.\u001b[0m\u001b[0m_mode\u001b[0m\u001b[0;34m)\u001b[0m\u001b[0;34m\u001b[0m\u001b[0;34m\u001b[0m\u001b[0m\n\u001b[1;32m    369\u001b[0m         \u001b[0;32mreturn\u001b[0m \u001b[0mds\u001b[0m\u001b[0;34m\u001b[0m\u001b[0;34m\u001b[0m\u001b[0m\n",
      "\u001b[0;32m/glade/u/apps/dav/opt/python/3.7.9/gnu/9.1.0/lib/python3.7/contextlib.py\u001b[0m in \u001b[0;36m__enter__\u001b[0;34m(self)\u001b[0m\n\u001b[1;32m    110\u001b[0m         \u001b[0;32mdel\u001b[0m \u001b[0mself\u001b[0m\u001b[0;34m.\u001b[0m\u001b[0margs\u001b[0m\u001b[0;34m,\u001b[0m \u001b[0mself\u001b[0m\u001b[0;34m.\u001b[0m\u001b[0mkwds\u001b[0m\u001b[0;34m,\u001b[0m \u001b[0mself\u001b[0m\u001b[0;34m.\u001b[0m\u001b[0mfunc\u001b[0m\u001b[0;34m\u001b[0m\u001b[0;34m\u001b[0m\u001b[0m\n\u001b[1;32m    111\u001b[0m         \u001b[0;32mtry\u001b[0m\u001b[0;34m:\u001b[0m\u001b[0;34m\u001b[0m\u001b[0;34m\u001b[0m\u001b[0m\n\u001b[0;32m--> 112\u001b[0;31m             \u001b[0;32mreturn\u001b[0m \u001b[0mnext\u001b[0m\u001b[0;34m(\u001b[0m\u001b[0mself\u001b[0m\u001b[0;34m.\u001b[0m\u001b[0mgen\u001b[0m\u001b[0;34m)\u001b[0m\u001b[0;34m\u001b[0m\u001b[0;34m\u001b[0m\u001b[0m\n\u001b[0m\u001b[1;32m    113\u001b[0m         \u001b[0;32mexcept\u001b[0m \u001b[0mStopIteration\u001b[0m\u001b[0;34m:\u001b[0m\u001b[0;34m\u001b[0m\u001b[0;34m\u001b[0m\u001b[0m\n\u001b[1;32m    114\u001b[0m             \u001b[0;32mraise\u001b[0m \u001b[0mRuntimeError\u001b[0m\u001b[0;34m(\u001b[0m\u001b[0;34m\"generator didn't yield\"\u001b[0m\u001b[0;34m)\u001b[0m \u001b[0;32mfrom\u001b[0m \u001b[0;32mNone\u001b[0m\u001b[0;34m\u001b[0m\u001b[0;34m\u001b[0m\u001b[0m\n",
      "\u001b[0;32m/glade/work/eyankovsky/my_npl_clone/lib/python3.7/site-packages/xarray/backends/file_manager.py\u001b[0m in \u001b[0;36macquire_context\u001b[0;34m(self, needs_lock)\u001b[0m\n\u001b[1;32m    185\u001b[0m     \u001b[0;32mdef\u001b[0m \u001b[0macquire_context\u001b[0m\u001b[0;34m(\u001b[0m\u001b[0mself\u001b[0m\u001b[0;34m,\u001b[0m \u001b[0mneeds_lock\u001b[0m\u001b[0;34m=\u001b[0m\u001b[0;32mTrue\u001b[0m\u001b[0;34m)\u001b[0m\u001b[0;34m:\u001b[0m\u001b[0;34m\u001b[0m\u001b[0;34m\u001b[0m\u001b[0m\n\u001b[1;32m    186\u001b[0m         \u001b[0;34m\"\"\"Context manager for acquiring a file.\"\"\"\u001b[0m\u001b[0;34m\u001b[0m\u001b[0;34m\u001b[0m\u001b[0m\n\u001b[0;32m--> 187\u001b[0;31m         \u001b[0mfile\u001b[0m\u001b[0;34m,\u001b[0m \u001b[0mcached\u001b[0m \u001b[0;34m=\u001b[0m \u001b[0mself\u001b[0m\u001b[0;34m.\u001b[0m\u001b[0m_acquire_with_cache_info\u001b[0m\u001b[0;34m(\u001b[0m\u001b[0mneeds_lock\u001b[0m\u001b[0;34m)\u001b[0m\u001b[0;34m\u001b[0m\u001b[0;34m\u001b[0m\u001b[0m\n\u001b[0m\u001b[1;32m    188\u001b[0m         \u001b[0;32mtry\u001b[0m\u001b[0;34m:\u001b[0m\u001b[0;34m\u001b[0m\u001b[0;34m\u001b[0m\u001b[0m\n\u001b[1;32m    189\u001b[0m             \u001b[0;32myield\u001b[0m \u001b[0mfile\u001b[0m\u001b[0;34m\u001b[0m\u001b[0;34m\u001b[0m\u001b[0m\n",
      "\u001b[0;32m/glade/work/eyankovsky/my_npl_clone/lib/python3.7/site-packages/xarray/backends/file_manager.py\u001b[0m in \u001b[0;36m_acquire_with_cache_info\u001b[0;34m(self, needs_lock)\u001b[0m\n\u001b[1;32m    203\u001b[0m                     \u001b[0mkwargs\u001b[0m \u001b[0;34m=\u001b[0m \u001b[0mkwargs\u001b[0m\u001b[0;34m.\u001b[0m\u001b[0mcopy\u001b[0m\u001b[0;34m(\u001b[0m\u001b[0;34m)\u001b[0m\u001b[0;34m\u001b[0m\u001b[0;34m\u001b[0m\u001b[0m\n\u001b[1;32m    204\u001b[0m                     \u001b[0mkwargs\u001b[0m\u001b[0;34m[\u001b[0m\u001b[0;34m\"mode\"\u001b[0m\u001b[0;34m]\u001b[0m \u001b[0;34m=\u001b[0m \u001b[0mself\u001b[0m\u001b[0;34m.\u001b[0m\u001b[0m_mode\u001b[0m\u001b[0;34m\u001b[0m\u001b[0;34m\u001b[0m\u001b[0m\n\u001b[0;32m--> 205\u001b[0;31m                 \u001b[0mfile\u001b[0m \u001b[0;34m=\u001b[0m \u001b[0mself\u001b[0m\u001b[0;34m.\u001b[0m\u001b[0m_opener\u001b[0m\u001b[0;34m(\u001b[0m\u001b[0;34m*\u001b[0m\u001b[0mself\u001b[0m\u001b[0;34m.\u001b[0m\u001b[0m_args\u001b[0m\u001b[0;34m,\u001b[0m \u001b[0;34m**\u001b[0m\u001b[0mkwargs\u001b[0m\u001b[0;34m)\u001b[0m\u001b[0;34m\u001b[0m\u001b[0;34m\u001b[0m\u001b[0m\n\u001b[0m\u001b[1;32m    206\u001b[0m                 \u001b[0;32mif\u001b[0m \u001b[0mself\u001b[0m\u001b[0;34m.\u001b[0m\u001b[0m_mode\u001b[0m \u001b[0;34m==\u001b[0m \u001b[0;34m\"w\"\u001b[0m\u001b[0;34m:\u001b[0m\u001b[0;34m\u001b[0m\u001b[0;34m\u001b[0m\u001b[0m\n\u001b[1;32m    207\u001b[0m                     \u001b[0;31m# ensure file doesn't get overriden when opened again\u001b[0m\u001b[0;34m\u001b[0m\u001b[0;34m\u001b[0m\u001b[0;34m\u001b[0m\u001b[0m\n",
      "\u001b[0;32mnetCDF4/_netCDF4.pyx\u001b[0m in \u001b[0;36mnetCDF4._netCDF4.Dataset.__init__\u001b[0;34m()\u001b[0m\n",
      "\u001b[0;32mnetCDF4/_netCDF4.pyx\u001b[0m in \u001b[0;36mnetCDF4._netCDF4._ensure_nc_success\u001b[0;34m()\u001b[0m\n",
      "\u001b[0;31mPermissionError\u001b[0m: [Errno 13] Permission denied: b'/glade/p/univ/unyu0004/gmarques/NeverWorld2/baselines/nw2_0.125deg_N15_baseline_hmix5/averages_00004502.nc'"
     ]
    }
   ],
   "source": [
    "#1/4 degree resolution, surface diagnostics are for uppermost 5 meters.\n",
    "# %cd /glade/p/univ/unyu0004/gmarques/NeverWorld2/baselines/nw2_0.25deg_N15_baseline_hmix5/\n",
    "# fs = xr.open_dataset('static.nc', decode_times=False)\n",
    "# os = xr.open_mfdataset(['sub01/ocean.stats.nc','sub02/ocean.stats.nc'], decode_times=False)\n",
    "# av = xr.open_dataset('averages_00031502.nc', decode_times=False)\n",
    "\n",
    "\n",
    "#1/8 degree resolution, surface diagnostics are for uppermost 5 meters.\n",
    "%cd /glade/p/univ/unyu0004/gmarques/NeverWorld2/baselines/nw2_0.125deg_N15_baseline_hmix5/\n",
    "fs = xr.open_dataset('static.nc', decode_times=False)\n",
    "os = xr.open_mfdataset(['sub01/ocean.stats.nc','sub02/ocean.stats.nc'], decode_times=False)\n",
    "av = xr.open_dataset('averages_00004502.nc', decode_times=False)\n",
    "\n",
    "# # #1/16 degree resolution, surface diagnostics are for uppermost 5 meters.\n",
    "# %cd /glade/p/univ/unyu0004/gmarques/NeverWorld2/baselines/nw2_0.0625deg_N15_baseline_hmix5/\n",
    "# fs = xr.open_dataset('static.nc', decode_times=False)\n",
    "# os = xr.open_mfdataset(['sub01/ocean.stats.nc','sub02/ocean.stats.nc','sub03/ocean.stats.nc','sub04/ocean.stats.nc',\n",
    "#                          'sub05/ocean.stats.nc'], decode_times=False)\n",
    "# av = xr.open_dataset('averages_00004502.nc', decode_times=False)\n",
    "\n",
    "# #1/32 degree resolution, surface diagnostics are for uppermost 5 meters.\n",
    "# %cd /glade/p/univ/unyu0004/gmarques/NeverWorld2/baselines/nw2_0.03125deg_N15_baseline_hmix5\n",
    "# fs = xr.open_dataset('static.nc', decode_times=False)\n",
    "# # os = xr.open_mfdataset(['sub01/ocean.stats.nc','sub02/ocean.stats.nc','sub03/ocean.stats.nc','sub04/ocean.stats.nc',\n",
    "# #                         'sub05/ocean.stats.nc','sub06/ocean.stats.nc','sub07/ocean.stats.nc','sub08/ocean.stats.nc',\n",
    "# #                         'sub09/ocean.stats.nc','sub10/ocean.stats.nc','sub11/ocean.stats.nc','sub12/ocean.stats.nc',\n",
    "# #                         'sub13/ocean.stats.nc','sub14/ocean.stats.nc','sub15/ocean.stats.nc','sub16/ocean.stats.nc',\n",
    "# #                         'sub17/ocean.stats.nc','sub18/ocean.stats.nc','sub19/ocean.stats.nc','sub20/ocean.stats.nc'], decode_times=False)\n",
    "# os = xr.open_dataset('sub20/ocean.stats.nc', decode_times=False)\n",
    "\n",
    "# av = xr.open_dataset('averages_00002702.nc', decode_times=False)\n",
    "%cd /glade/p/univ/unyu0004/eyankovsky/NeverWorld_analysis/\n"
   ]
  },
  {
   "cell_type": "code",
   "execution_count": null,
   "metadata": {},
   "outputs": [],
   "source": [
    "#Read in various grid variables from the static file and forcing:\n",
    "lon=fs['geolon']; lat=fs['geolat']\n",
    "depth = fs['depth_ocean']\n",
    "area_t=fs['area_t']\n",
    "\n",
    "xh = fs.xh\n",
    "yh = fs.yh\n",
    "\n",
    "interface_ref=os['H0'].mean('Time'); interface_ref=interface_ref[:-1]\n",
    "\n",
    "Layer = (os['Layer']);\n",
    "drho=xr.zeros_like(interface_ref)\n",
    "drho[0]=Layer[0]; drho[1:]=np.diff(Layer)\n",
    "print(interface_ref); #drho contains the density differences across each interface. 15 entries, includes surface but not bottom.\n"
   ]
  },
  {
   "cell_type": "code",
   "execution_count": 50,
   "metadata": {},
   "outputs": [
    {
     "data": {
      "text/plain": [
       "(4480, 1920)"
      ]
     },
     "execution_count": 50,
     "metadata": {},
     "output_type": "execute_result"
    }
   ],
   "source": [
    "area_t.shape"
   ]
  },
  {
   "cell_type": "code",
   "execution_count": 33,
   "metadata": {},
   "outputs": [],
   "source": [
    "h = (av['h'][:,:,:,:]).fillna(0.)\n",
    "correction = (interface_ref-depth); #if >0 this means h_ref is deeper than topography, we need correction!\n",
    "correction = correction.where(correction>0.0).fillna(0) #if correction <0 that means depth is larger than h_ref, we don't need correction!\n",
    "\n",
    "interface = xr.zeros_like(h)\n",
    "for t in range (0,20):\n",
    "    for i in range(0,len(Layer)):\n",
    "        interface[t,i,:,:]=h[t,i:,:,:].sum(axis=0)-depth\n",
    "        #interface is negative down, interface_ref_mat is positive down\n",
    "    #print(t)\n",
    "interface_ref_HIC = interface_ref- correction\n",
    "interface_ref_HIC=interface_ref_HIC.rename({'Interface': 'zl'}); \n",
    "drho=drho.rename({'Interface': 'zl'})\n",
    "interface_ref_HIC.coords['zl'] = h['zl']; drho.coords['zl'] = h['zl']\n"
   ]
  },
  {
   "cell_type": "code",
   "execution_count": 63,
   "metadata": {},
   "outputs": [],
   "source": [
    "eta = (interface+interface_ref_HIC)\n",
    "eta_coarse = eta.coarsen(xh=16,yh=16, boundary=\"exact\").mean()\n",
    "area_coarse = area_t.coarsen(xh=16,yh=16,boundary=\"exact\").mean()\n",
    "\n",
    "eta2=eta_coarse**2.\n",
    "APE_net=(0.5*9.81*drho*eta2*area_coarse*16*16).sum('zl')\n",
    "#/(1022.6*depth)).sum('zl')  #to have units of J don't divide by 1022.6*depth, do multiply by area_t\n"
   ]
  },
  {
   "cell_type": "code",
   "execution_count": 64,
   "metadata": {},
   "outputs": [
    {
     "name": "stdout",
     "output_type": "stream",
     "text": [
      "8.988687789288808e+19\n",
      "9.582203746038604e+19\n"
     ]
    }
   ],
   "source": [
    "print(np.nansum(APE_net[-1,:,:]))\n",
    "print(np.nansum(os.APE[-1,:]))\n"
   ]
  },
  {
   "cell_type": "code",
   "execution_count": 71,
   "metadata": {},
   "outputs": [],
   "source": [
    "grid= Grid(av, coords={'X': {'center': 'xh', 'outer': 'xq'}, #This tells the grid where xh, xq, yh, and yq are defined.\n",
    "                        'Y': {'center': 'yh', 'outer': 'yq'}});\n"
   ]
  },
  {
   "cell_type": "code",
   "execution_count": 94,
   "metadata": {},
   "outputs": [
    {
     "name": "stdout",
     "output_type": "stream",
     "text": [
      "done part 1\n",
      "CPU times: user 19.9 s, sys: 16.3 s, total: 36.2 s\n",
      "Wall time: 36.4 s\n"
     ]
    }
   ],
   "source": [
    "%%time\n",
    "# #COMPUTE velocity components for decomposing KE:\n",
    "Nlayers=15\n",
    "\n",
    "h  = av['h'].mean('time').fillna(0.)\n",
    "Depth=h.sum('zl')\n",
    "print('done part 1')\n",
    "\n",
    "u  = av['u'][-1,:];  u = grid.interp(u,axis='X').coarsen(xh=16,yh=16,boundary=\"exact\").mean()\n",
    "v  = av['v'][-1,:];  v = grid.interp(v,axis='Y').coarsen(xh=16,yh=16,boundary=\"exact\").mean()\n",
    "h_coarse = h.coarsen(xh=16,yh=16,boundary=\"exact\").mean()\n"
   ]
  },
  {
   "cell_type": "code",
   "execution_count": 76,
   "metadata": {},
   "outputs": [],
   "source": [
    "depth_coarse = depth.coarsen(xh=16,yh=16,boundary=\"exact\").mean()"
   ]
  },
  {
   "cell_type": "code",
   "execution_count": 98,
   "metadata": {},
   "outputs": [
    {
     "data": {
      "text/plain": [
       "(15, 280, 120)"
      ]
     },
     "execution_count": 98,
     "metadata": {},
     "output_type": "execute_result"
    }
   ],
   "source": [
    "KE=0.5*(v**2+u**2)*h_coarse*area_coarse*1022.6*16*16\n",
    "KE.shape"
   ]
  },
  {
   "cell_type": "code",
   "execution_count": 99,
   "metadata": {},
   "outputs": [
    {
     "data": {
      "text/plain": [
       "2.2734621919776812e+18"
      ]
     },
     "execution_count": 99,
     "metadata": {},
     "output_type": "execute_result"
    }
   ],
   "source": [
    "np.nansum(KE)"
   ]
  },
  {
   "cell_type": "code",
   "execution_count": 100,
   "metadata": {},
   "outputs": [
    {
     "name": "stdout",
     "output_type": "stream",
     "text": [
      "<xarray.DataArray 'KE' ()>\n",
      "array(2.42875208e+18)\n",
      "Coordinates:\n",
      "    Time     float64 2.7e+03\n"
     ]
    }
   ],
   "source": [
    "print(os.KE[-1].sum(axis=0))"
   ]
  },
  {
   "cell_type": "code",
   "execution_count": 87,
   "metadata": {},
   "outputs": [
    {
     "name": "stdout",
     "output_type": "stream",
     "text": [
      "7.725737492460306e+19\n",
      "<xarray.DataArray 'KE' ()>\n",
      "array(2.42875208e+18)\n",
      "Coordinates:\n",
      "    Time     float64 2.7e+03\n"
     ]
    }
   ],
   "source": [
    "print(np.nansum(KE))\n",
    "print(os.KE[-1].sum(axis=0))"
   ]
  },
  {
   "cell_type": "code",
   "execution_count": 92,
   "metadata": {},
   "outputs": [
    {
     "name": "stdout",
     "output_type": "stream",
     "text": [
      "<xarray.DataArray (yh: 4480, xh: 1920)>\n",
      "array([[nan, nan, nan, ..., nan, nan, nan],\n",
      "       [nan, nan, nan, ..., nan, nan, nan],\n",
      "       [nan, nan, nan, ..., nan, nan, nan],\n",
      "       ...,\n",
      "       [nan, nan, nan, ..., nan, nan, nan],\n",
      "       [nan, nan, nan, ..., nan, nan, nan],\n",
      "       [nan, nan, nan, ..., nan, nan, nan]])\n",
      "Coordinates:\n",
      "  * xh       (xh) float64 0.01562 0.04688 0.07812 0.1094 ... 59.92 59.95 59.98\n",
      "  * yh       (yh) float64 -69.98 -69.95 -69.92 -69.89 ... 69.92 69.95 69.98\n"
     ]
    }
   ],
   "source": [
    "KE_test = av['KE'][-1,:]\n",
    "print(np.nansum(KE_test)*1022.6*area_t*depth)"
   ]
  },
  {
   "cell_type": "code",
   "execution_count": 93,
   "metadata": {},
   "outputs": [
    {
     "name": "stdout",
     "output_type": "stream",
     "text": [
      "<xarray.DataArray 'KE' (zl: 15, yh: 4480, xh: 1920)>\n",
      "array([[[nan, nan, ..., nan, nan],\n",
      "        [nan, nan, ..., nan, nan],\n",
      "        ...,\n",
      "        [nan, nan, ..., nan, nan],\n",
      "        [nan, nan, ..., nan, nan]],\n",
      "\n",
      "       [[nan, nan, ..., nan, nan],\n",
      "        [nan, nan, ..., nan, nan],\n",
      "        ...,\n",
      "        [nan, nan, ..., nan, nan],\n",
      "        [nan, nan, ..., nan, nan]],\n",
      "\n",
      "       ...,\n",
      "\n",
      "       [[nan, nan, ..., nan, nan],\n",
      "        [nan, nan, ..., nan, nan],\n",
      "        ...,\n",
      "        [nan, nan, ..., nan, nan],\n",
      "        [nan, nan, ..., nan, nan]],\n",
      "\n",
      "       [[nan, nan, ..., nan, nan],\n",
      "        [nan, nan, ..., nan, nan],\n",
      "        ...,\n",
      "        [nan, nan, ..., nan, nan],\n",
      "        [nan, nan, ..., nan, nan]]], dtype=float32)\n",
      "Coordinates:\n",
      "  * yh       (yh) float64 -69.98 -69.95 -69.92 -69.89 ... 69.92 69.95 69.98\n",
      "  * zl       (zl) float64 1.023e+03 1.023e+03 1.023e+03 ... 1.028e+03 1.028e+03\n",
      "    time     float64 2.798e+03\n",
      "  * xh       (xh) float64 0.01562 0.04688 0.07812 0.1094 ... 59.92 59.95 59.98\n",
      "Attributes:\n",
      "    long_name:      Layer kinetic energy per unit mass\n",
      "    units:          m2 s-2\n",
      "    cell_methods:   area:mean zl:mean yh:mean xh:mean time: mean\n",
      "    cell_measures:  area: area_t\n",
      "    time_avg_info:  average_T1,average_T2,average_DT\n"
     ]
    }
   ],
   "source": [
    "print(KE_test)"
   ]
  },
  {
   "cell_type": "code",
   "execution_count": null,
   "metadata": {},
   "outputs": [],
   "source": []
  }
 ],
 "metadata": {
  "kernelspec": {
   "display_name": "Python 3",
   "language": "python",
   "name": "python3"
  },
  "language_info": {
   "codemirror_mode": {
    "name": "ipython",
    "version": 3
   },
   "file_extension": ".py",
   "mimetype": "text/x-python",
   "name": "python",
   "nbconvert_exporter": "python",
   "pygments_lexer": "ipython3",
   "version": "3.7.9"
  }
 },
 "nbformat": 4,
 "nbformat_minor": 4
}
