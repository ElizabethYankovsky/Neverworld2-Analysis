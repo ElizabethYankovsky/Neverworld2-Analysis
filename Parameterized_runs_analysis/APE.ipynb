{
 "cells": [
  {
   "cell_type": "code",
   "execution_count": 1,
   "metadata": {},
   "outputs": [
    {
     "name": "stdin",
     "output_type": "stream",
     "text": [
      "Once deleted, variables cannot be recovered. Proceed (y/[n])?  y\n"
     ]
    }
   ],
   "source": [
    "%reset\n",
    "%matplotlib inline\n",
    "import numpy as np\n",
    "import matplotlib.pyplot as plt\n",
    "import xarray as xr\n",
    "import cartopy.crs as ccrs\n",
    "import netCDF4 as nc\n",
    "import matplotlib.ticker as mticker\n",
    "import warnings; warnings.filterwarnings('ignore')\n",
    "import cmocean\n",
    "from xgcm import Grid\n",
    "import gcm_filters"
   ]
  },
  {
   "cell_type": "markdown",
   "metadata": {},
   "source": [
    "## Reading in data for 1/2 degree parameterized runs:\n"
   ]
  },
  {
   "cell_type": "code",
   "execution_count": 2,
   "metadata": {},
   "outputs": [
    {
     "name": "stdout",
     "output_type": "stream",
     "text": [
      "/glade/p/univ/unyu0004/eyankovsky/MEKE_testing/MEKE_test27\n",
      "/glade/p/univ/unyu0004/eyankovsky/NeverWorld_analysis\n"
     ]
    }
   ],
   "source": [
    "# ##Unparameterized run\n",
    "# %cd /glade/p/univ/unyu0004/eyankovsky/MEKE_testing/default_noparameterization\n",
    "# fs = xr.open_dataset('static.nc', decode_times=False)\n",
    "# av =xr.open_dataset('averages_00031502.nc',decode_times=False)\n",
    "# os = xr.open_dataset('ocean.stats.nc', decode_times=False)\n",
    "\n",
    "# #Contains default setup based on Jansen et al 2019. MEKE_VISCOSITY_COEFF_KU = -0.15; MEKE_KHCOEFF = 0.15 BAROTROPIC BACKSCATTER\n",
    "# %cd /glade/p/univ/unyu0004/eyankovsky/MEKE_testing/BTBS_default\n",
    "# fs=xr.open_dataset('static.nc', decode_times=False)\n",
    "# av=xr.open_dataset('averages_00031502.nc',decode_times=False)\n",
    "\n",
    "\n",
    "# # MEKE_VISCOSITY_COEFF_KU = -0.15; MEKE_KHCOEFF = 0.3\n",
    "# %cd /glade/p/univ/unyu0004/eyankovsky/MEKE_testing/BTBS_test1\n",
    "# fs=xr.open_dataset('static.nc', decode_times=False)\n",
    "# av=xr.open_dataset('averages_00031502.nc',decode_times=False)\n",
    "\n",
    "\n",
    "# ## MEKE_VISCOSITY_COEFF_KU = -0.15; MEKE_KHCOEFF = 0.5\n",
    "# %cd /glade/p/univ/unyu0004/eyankovsky/MEKE_testing/BTBS_test2\n",
    "# fs=xr.open_dataset('static.nc', decode_times=False)\n",
    "# av=xr.open_dataset('averages_00031502.nc',decode_times=False)\n",
    "\n",
    "\n",
    "# # MEKE_VISCOSITY_COEFF_KU = -0.3; MEKE_KHCOEFF = 0.15\n",
    "# %cd /glade/p/univ/unyu0004/eyankovsky/MEKE_testing/BTBS_test3\n",
    "# fs=xr.open_dataset('static.nc', decode_times=False)\n",
    "# av=xr.open_dataset('averages_00031502.nc',decode_times=False)\n",
    "\n",
    "\n",
    "# # MEKE_VISCOSITY_COEFF_KU = -0.5; MEKE_KHCOEFF = 0.15\n",
    "# %cd /glade/p/univ/unyu0004/eyankovsky/MEKE_testing/BTBS_test4\n",
    "# fs=xr.open_dataset('static.nc', decode_times=False)\n",
    "# av=xr.open_dataset('averages_00031502.nc',decode_times=False)\n",
    "\n",
    "\n",
    "# # MEKE_VISCOSITY_COEFF_KU = -0.3; MEKE_KHCOEFF = 0.3\n",
    "# %cd /glade/p/univ/unyu0004/eyankovsky/MEKE_testing/BTBS_test5\n",
    "# fs=xr.open_dataset('static.nc', decode_times=False)\n",
    "# av=xr.open_dataset('averages_00031502.nc',decode_times=False)\n",
    "\n",
    "\n",
    "# ## MEKE_VISCOSITY_COEFF_KU = -0.5; MEKE_KHCOEFF = 0.5\n",
    "# %cd /glade/p/univ/unyu0004/eyankovsky/MEKE_testing/BTBS_test6\n",
    "# fs=xr.open_dataset('static.nc', decode_times=False)\n",
    "# av=xr.open_dataset('averages_00031502.nc',decode_times=False)\n",
    "\n",
    "# ## MEKE_VISCOSITY_COEFF_KU = -0.0; MEKE_KHCOEFF = 0.5  HERE USE MEKE CASE\n",
    "# %cd /glade/p/univ/unyu0004/eyankovsky/MEKE_testing/MEKE_test7\n",
    "# fs=xr.open_dataset('static.nc', decode_times=False)\n",
    "# av=xr.open_dataset('averages_00031502.nc',decode_times=False)\n",
    "\n",
    "# ## MEKE_VISCOSITY_COEFF_KU = -0.0; MEKE_KHCOEFF = 0.6 HERE USE MEKE CASE\n",
    "# %cd /glade/p/univ/unyu0004/eyankovsky/MEKE_testing/MEKE_test8\n",
    "# fs=xr.open_dataset('static.nc', decode_times=False)\n",
    "# av=xr.open_dataset('averages_00031502.nc',decode_times=False)\n",
    "\n",
    "# ## MEKE_VISCOSITY_COEFF_KU = -0.0; MEKE_KHCOEFF = 0.8  HERE USE MEKE CASE\n",
    "# %cd /glade/p/univ/unyu0004/eyankovsky/MEKE_testing/MEKE_test9\n",
    "# fs=xr.open_dataset('static.nc', decode_times=False)\n",
    "# av=xr.open_dataset('averages_00031502.nc',decode_times=False)\n",
    "\n",
    "# ## MEKE_VISCOSITY_COEFF_KU = -0.3; MEKE_KHCOEFF = 0.5\n",
    "# %cd /glade/p/univ/unyu0004/eyankovsky/MEKE_testing/BTBS_test10\n",
    "# fs=xr.open_dataset('static.nc', decode_times=False)\n",
    "# av=xr.open_dataset('averages_00031502.nc',decode_times=False)\n",
    "\n",
    "# ## MEKE_VISCOSITY_COEFF_KU = -0.5; MEKE_KHCOEFF = 0.3\n",
    "# %cd /glade/p/univ/unyu0004/eyankovsky/MEKE_testing/BTBS_test11\n",
    "# fs=xr.open_dataset('static.nc', decode_times=False)\n",
    "# av=xr.open_dataset('averages_00031502.nc',decode_times=False)\n",
    "\n",
    "# ## MEKE_VISCOSITY_COEFF_KU = -0.6; MEKE_KHCOEFF = 0.6\n",
    "# %cd /glade/p/univ/unyu0004/eyankovsky/MEKE_testing/BTBS_test12\n",
    "# fs=xr.open_dataset('static.nc', decode_times=False)\n",
    "# av=xr.open_dataset('averages_00031502.nc',decode_times=False)\n",
    "\n",
    "# ## MEKE_VISCOSITY_COEFF_KU = -0.8; MEKE_KHCOEFF = 0.8\n",
    "# %cd /glade/p/univ/unyu0004/eyankovsky/MEKE_testing/BTBS_test13\n",
    "# fs=xr.open_dataset('static.nc', decode_times=False)\n",
    "# av=xr.open_dataset('averages_00031502.nc',decode_times=False)\n",
    "\n",
    "# ## MEKE_VISCOSITY_COEFF_KU = -0.2; MEKE_KHCOEFF = 0.2\n",
    "# %cd /glade/p/univ/unyu0004/eyankovsky/MEKE_testing/BTBS_test14\n",
    "# fs=xr.open_dataset('static.nc', decode_times=False)\n",
    "# av=xr.open_dataset('averages_00031502.nc',decode_times=False)\n",
    "\n",
    "# ## MEKE_VISCOSITY_COEFF_KU = -0.15; MEKE_KHCOEFF = 0\n",
    "# %cd /glade/p/univ/unyu0004/eyankovsky/MEKE_testing/BTBS_test15\n",
    "# fs=xr.open_dataset('static.nc', decode_times=False)\n",
    "# av=xr.open_dataset('averages_00031502.nc',decode_times=False)\n",
    "\n",
    "# ## MEKE_VISCOSITY_COEFF_KU = -0.3; MEKE_KHCOEFF = 0\n",
    "# %cd /glade/p/univ/unyu0004/eyankovsky/MEKE_testing/BTBS_test16\n",
    "# fs=xr.open_dataset('static.nc', decode_times=False)\n",
    "# av=xr.open_dataset('averages_00031502.nc',decode_times=False)\n",
    "\n",
    "\n",
    "# ## MEKE_VISCOSITY_COEFF_KU = -0.3; MEKE_KHCOEFF = 0\n",
    "# %cd /glade/p/univ/unyu0004/eyankovsky/MEKE_testing/BTBS_test20\n",
    "# fs=xr.open_dataset('static.nc', decode_times=False)\n",
    "# av=xr.open_dataset('averages_00031502.nc',decode_times=False)\n",
    "\n",
    "# ## MEKE_VISCOSITY_COEFF_KU = -0.6; MEKE_KHCOEFF = 0.15\n",
    "# %cd /glade/p/univ/unyu0004/eyankovsky/MEKE_testing/BTBS_test21\n",
    "# fs=xr.open_dataset('static.nc', decode_times=False)\n",
    "# av=xr.open_dataset('averages_00031502.nc',decode_times=False)\n",
    "\n",
    "# ## MEKE_VISCOSITY_COEFF_KU = -0.8; MEKE_KHCOEFF = 0.15\n",
    "# %cd /glade/p/univ/unyu0004/eyankovsky/MEKE_testing/BTBS_test22\n",
    "# fs=xr.open_dataset('static.nc', decode_times=False)\n",
    "# av=xr.open_dataset('averages_00031502.nc',decode_times=False)\n",
    "\n",
    "# ## MEKE_VISCOSITY_COEFF_KU = -1; MEKE_KHCOEFF = 0.15\n",
    "# %cd /glade/p/univ/unyu0004/eyankovsky/MEKE_testing/BTBS_test23\n",
    "# fs=xr.open_dataset('static.nc', decode_times=False)\n",
    "# av=xr.open_dataset('averages_00031502.nc',decode_times=False)\n",
    "\n",
    "\n",
    "# ## MEKE_VISCOSITY_COEFF_KU = -0; MEKE_KHCOEFF = 0.15  HERE USE MEKE CASE\n",
    "# %cd /glade/p/univ/unyu0004/eyankovsky/MEKE_testing/MEKE_test24\n",
    "# fs=xr.open_dataset('static.nc', decode_times=False)\n",
    "# av=xr.open_dataset('averages_00031502.nc',decode_times=False)\n",
    "\n",
    "# ## MEKE_VISCOSITY_COEFF_KU = -0; MEKE_KHCOEFF = 0.3  HERE USE MEKE CASE\n",
    "# %cd /glade/p/univ/unyu0004/eyankovsky/MEKE_testing/MEKE_test25\n",
    "# fs=xr.open_dataset('static.nc', decode_times=False)\n",
    "# av=xr.open_dataset('averages_00031502.nc',decode_times=False)\n",
    "\n",
    "# ## MEKE_VISCOSITY_COEFF_KU = -0.1; MEKE_KHCOEFF = 0\n",
    "# %cd /glade/p/univ/unyu0004/eyankovsky/MEKE_testing/BTBS_test26\n",
    "# fs=xr.open_dataset('static.nc', decode_times=False)\n",
    "# av=xr.open_dataset('averages_00031502.nc',decode_times=False)\n",
    "\n",
    "## MEKE_VISCOSITY_COEFF_KU = -0.2; MEKE_KHCOEFF = 0\n",
    "%cd /glade/p/univ/unyu0004/eyankovsky/MEKE_testing/MEKE_test27\n",
    "fs=xr.open_dataset('static.nc', decode_times=False)\n",
    "av=xr.open_dataset('averages_00031502.nc',decode_times=False)\n",
    "os = xr.open_dataset('ocean.stats.nc', decode_times=False)\n",
    "\n",
    "\n",
    "%cd /glade/p/univ/unyu0004/eyankovsky/NeverWorld_analysis/\n",
    "\n"
   ]
  },
  {
   "cell_type": "markdown",
   "metadata": {},
   "source": [
    "## Reading in data for baseline cases:"
   ]
  },
  {
   "cell_type": "code",
   "execution_count": 3,
   "metadata": {},
   "outputs": [
    {
     "name": "stdout",
     "output_type": "stream",
     "text": [
      "/glade/campaign/univ/unyu0004/NeverWorld2/nw2_0.03125deg_N15_baseline_hmix5\n",
      "/glade/p/univ/unyu0004/eyankovsky/NeverWorld_analysis\n"
     ]
    }
   ],
   "source": [
    "# #1/4 degree resolution, surface diagnostics are for uppermost 5 meters.\n",
    "# %cd /glade/p/univ/unyu0004/gmarques/NeverWorld2/baselines/nw2_0.25deg_N15_baseline_hmix5/\n",
    "# fs = xr.open_dataset('static.nc', decode_times=False)\n",
    "# #os = xr.open_mfdataset(['sub01/ocean.stats.nc','sub02/ocean.stats.nc'], decode_times=False)\n",
    "# os = xr.open_dataset('sub02/ocean.stats.nc', decode_times=False)\n",
    "# av = xr.open_dataset('averages_00031502.nc', decode_times=False)\n",
    "\n",
    "\n",
    "# #1/8 degree resolution, surface diagnostics are for uppermost 5 meters.\n",
    "# %cd /glade/p/univ/unyu0004/gmarques/NeverWorld2/baselines/nw2_0.125deg_N15_baseline_hmix5/\n",
    "# fs = xr.open_dataset('static.nc', decode_times=False)\n",
    "# os = xr.open_mfdataset(['sub01/ocean.stats.nc','sub02/ocean.stats.nc'], decode_times=False)\n",
    "# av = xr.open_dataset('averages_00004502.nc', decode_times=False)\n",
    "\n",
    "# # #1/16 degree resolution, surface diagnostics are for uppermost 5 meters.\n",
    "# %cd /glade/p/univ/unyu0004/gmarques/NeverWorld2/baselines/nw2_0.0625deg_N15_baseline_hmix5/\n",
    "# fs = xr.open_dataset('static.nc', decode_times=False)\n",
    "# os = xr.open_mfdataset(['sub01/ocean.stats.nc','sub02/ocean.stats.nc','sub03/ocean.stats.nc','sub04/ocean.stats.nc',\n",
    "#                          'sub05/ocean.stats.nc'], decode_times=False)\n",
    "# av = xr.open_dataset('averages_00004502.nc', decode_times=False)\n",
    "\n",
    "#1/32 degree resolution, surface diagnostics are for uppermost 5 meters.\n",
    "%cd /glade/p/univ/unyu0004/gmarques/NeverWorld2/baselines/nw2_0.03125deg_N15_baseline_hmix5\n",
    "fs = xr.open_dataset('static.nc', decode_times=False)\n",
    "# os = xr.open_mfdataset(['sub01/ocean.stats.nc','sub02/ocean.stats.nc','sub03/ocean.stats.nc','sub04/ocean.stats.nc',\n",
    "#                         'sub05/ocean.stats.nc','sub06/ocean.stats.nc','sub07/ocean.stats.nc','sub08/ocean.stats.nc',\n",
    "#                         'sub09/ocean.stats.nc','sub10/ocean.stats.nc','sub11/ocean.stats.nc','sub12/ocean.stats.nc',\n",
    "#                         'sub13/ocean.stats.nc','sub14/ocean.stats.nc','sub15/ocean.stats.nc','sub16/ocean.stats.nc',\n",
    "#                         'sub17/ocean.stats.nc','sub18/ocean.stats.nc','sub19/ocean.stats.nc','sub20/ocean.stats.nc'], decode_times=False)\n",
    "os = xr.open_dataset('sub20/ocean.stats.nc', decode_times=False)\n",
    "\n",
    "av = xr.open_dataset('averages_00002702.nc', decode_times=False)\n",
    "%cd /glade/p/univ/unyu0004/eyankovsky/NeverWorld_analysis/\n"
   ]
  },
  {
   "cell_type": "code",
   "execution_count": 4,
   "metadata": {},
   "outputs": [
    {
     "name": "stdout",
     "output_type": "stream",
     "text": [
      "<xarray.DataArray 'H0' (Interface: 15)>\n",
      "array([-2.23290804e-04,  2.49712825e+01,  7.50754467e+01,  1.75029085e+02,\n",
      "        2.99815575e+02,  4.49933272e+02,  6.24646187e+02,  8.24913043e+02,\n",
      "        1.04954125e+03,  1.30001166e+03,  1.59954294e+03,  1.94972088e+03,\n",
      "        2.35011274e+03,  2.84985560e+03,  3.40045234e+03])\n",
      "Coordinates:\n",
      "  * Interface  (Interface) float64 1.022e+03 1.023e+03 ... 1.028e+03 1.028e+03\n"
     ]
    }
   ],
   "source": [
    "#Read in various grid variables from the static file and forcing:\n",
    "lon=fs['geolon']; lat=fs['geolat']\n",
    "depth = fs['depth_ocean']\n",
    "area_t=fs['area_t']\n",
    "\n",
    "xh = fs.xh\n",
    "yh = fs.yh\n",
    "\n",
    "interface_ref=os['H0'].mean('Time'); interface_ref=interface_ref[:-1]\n",
    "\n",
    "Layer = (os['Layer']);\n",
    "drho=xr.zeros_like(interface_ref)\n",
    "drho[0]=Layer[0]; drho[1:]=np.diff(Layer)\n",
    "print(interface_ref); #drho contains the density differences across each interface. 15 entries, includes surface but not bottom.\n"
   ]
  },
  {
   "cell_type": "code",
   "execution_count": 5,
   "metadata": {},
   "outputs": [
    {
     "name": "stdout",
     "output_type": "stream",
     "text": [
      "2.390971861125486e+18\n",
      "9.589672469961494e+19\n"
     ]
    },
    {
     "data": {
      "text/plain": [
       "(21, 15)"
      ]
     },
     "execution_count": 5,
     "metadata": {},
     "output_type": "execute_result"
    }
   ],
   "source": [
    "print(np.nansum(os.KE[:,:],axis=1).mean(axis=0))\n",
    "print(np.nansum(os.APE[:,:],axis=1).mean(axis=0))\n",
    "\n",
    "os.KE.shape"
   ]
  },
  {
   "cell_type": "code",
   "execution_count": 6,
   "metadata": {},
   "outputs": [
    {
     "name": "stdout",
     "output_type": "stream",
     "text": [
      "0\n",
      "1\n",
      "2\n",
      "3\n",
      "4\n",
      "5\n",
      "6\n",
      "7\n",
      "8\n",
      "9\n",
      "10\n",
      "11\n",
      "12\n",
      "13\n",
      "14\n",
      "15\n",
      "16\n",
      "17\n",
      "18\n",
      "19\n"
     ]
    }
   ],
   "source": [
    "h = (av['h'][:,:,:,:])#.fillna(0.)\n",
    "correction = (interface_ref-depth); #if >0 this means h_ref is deeper than topography, we need correction!\n",
    "correction = correction.where(correction>0.0).fillna(0) #if correction <0 that means depth is larger than h_ref, we don't need correction!\n",
    "\n",
    "interface = xr.zeros_like(h)\n",
    "for t in range (0,20):\n",
    "    for i in range(0,len(Layer)):\n",
    "        interface[t,i,:,:]=h[t,i:,:,:].sum(axis=0)-depth\n",
    "        #interface is negative down, interface_ref_mat is positive down\n",
    "    print(t)\n",
    "interface_ref_HIC = interface_ref- correction\n",
    "interface_ref_HIC=interface_ref_HIC.rename({'Interface': 'zl'}); \n",
    "drho=drho.rename({'Interface': 'zl'})\n",
    "interface_ref_HIC.coords['zl'] = h['zl']; drho.coords['zl'] = h['zl']\n"
   ]
  },
  {
   "cell_type": "code",
   "execution_count": 37,
   "metadata": {},
   "outputs": [],
   "source": [
    "scale=1\n",
    "\n",
    "eta = (interface+interface_ref_HIC)\n",
    "eta_coarse = eta.coarsen(xh=scale,yh=scale, boundary=\"exact\").mean()\n",
    "area_coarse = area_t.coarsen(xh=scale,yh=scale,boundary=\"exact\").mean()\n",
    "\n",
    "eta2=eta_coarse**2.\n",
    "APE_net=(0.5*10*drho*eta2*area_coarse*scale**2).sum('zl')\n",
    "#/(1022.6*depth)).sum('zl')  #to have units of J don't divide by 1022.6*depth, do multiply by area_t\n"
   ]
  },
  {
   "cell_type": "code",
   "execution_count": 38,
   "metadata": {},
   "outputs": [
    {
     "name": "stdout",
     "output_type": "stream",
     "text": [
      "9.196642401592923e+19\n",
      "9.541499154352313e+19\n"
     ]
    },
    {
     "data": {
      "text/plain": [
       "(20, 4480, 1920)"
      ]
     },
     "execution_count": 38,
     "metadata": {},
     "output_type": "execute_result"
    }
   ],
   "source": [
    "print(np.nansum(APE_net[-1,:,:]))\n",
    "print(np.nansum(os.APE[-1,1:]))\n",
    "APE_net.shape"
   ]
  },
  {
   "cell_type": "code",
   "execution_count": 39,
   "metadata": {},
   "outputs": [
    {
     "name": "stdout",
     "output_type": "stream",
     "text": [
      "9.212930398730212e+19\n"
     ]
    }
   ],
   "source": [
    "APE_average = np.nansum(np.nansum(APE_net,axis=2),axis=1)\n",
    "APE_average = np.nanmean(APE_average)\n",
    "print(APE_average)"
   ]
  },
  {
   "cell_type": "code",
   "execution_count": 40,
   "metadata": {},
   "outputs": [],
   "source": [
    "grid= Grid(av, coords={'X': {'center': 'xh', 'outer': 'xq'}, #This tells the grid where xh, xq, yh, and yq are defined.\n",
    "                        'Y': {'center': 'yh', 'outer': 'yq'}});\n"
   ]
  },
  {
   "cell_type": "code",
   "execution_count": 41,
   "metadata": {},
   "outputs": [
    {
     "name": "stdout",
     "output_type": "stream",
     "text": [
      "done part 1\n",
      "CPU times: user 19.7 s, sys: 15.9 s, total: 35.6 s\n",
      "Wall time: 35.9 s\n"
     ]
    }
   ],
   "source": [
    "%%time\n",
    "# #COMPUTE velocity components for decomposing KE:\n",
    "Nlayers=15\n",
    "\n",
    "h  = av['h'].mean('time').fillna(0.)\n",
    "Depth=h.sum('zl')\n",
    "print('done part 1')\n",
    "\n",
    "u  = av['u'][-1,:];  u = grid.interp(u,axis='X').coarsen(xh=scale,yh=scale,boundary=\"exact\").mean()\n",
    "v  = av['v'][-1,:];  v = grid.interp(v,axis='Y').coarsen(xh=scale,yh=scale,boundary=\"exact\").mean()\n",
    "h_coarse = h.coarsen(xh=scale,yh=scale,boundary=\"exact\").mean()\n"
   ]
  },
  {
   "cell_type": "code",
   "execution_count": 42,
   "metadata": {},
   "outputs": [],
   "source": [
    "depth_coarse = depth.coarsen(xh=scale,yh=scale,boundary=\"exact\").mean()"
   ]
  },
  {
   "cell_type": "code",
   "execution_count": 43,
   "metadata": {},
   "outputs": [
    {
     "data": {
      "text/plain": [
       "(15, 4480, 1920)"
      ]
     },
     "execution_count": 43,
     "metadata": {},
     "output_type": "execute_result"
    }
   ],
   "source": [
    "KE=0.5*(v**2+u**2)*h_coarse*area_coarse*1000*scale*scale\n",
    "KE.shape"
   ]
  },
  {
   "cell_type": "code",
   "execution_count": 44,
   "metadata": {},
   "outputs": [
    {
     "data": {
      "text/plain": [
       "2.4240536164061763e+18"
      ]
     },
     "execution_count": 44,
     "metadata": {},
     "output_type": "execute_result"
    }
   ],
   "source": [
    "np.nansum(KE)"
   ]
  },
  {
   "cell_type": "code",
   "execution_count": 16,
   "metadata": {},
   "outputs": [
    {
     "data": {
      "text/plain": [
       "(15, 560, 240)"
      ]
     },
     "execution_count": 16,
     "metadata": {},
     "output_type": "execute_result"
    }
   ],
   "source": []
  },
  {
   "cell_type": "code",
   "execution_count": 15,
   "metadata": {},
   "outputs": [
    {
     "name": "stdout",
     "output_type": "stream",
     "text": [
      "<xarray.DataArray 'KE' ()>\n",
      "array(2.42875208e+18)\n",
      "Coordinates:\n",
      "    Time     float64 2.7e+03\n"
     ]
    }
   ],
   "source": [
    "print(os.KE[-1].sum(axis=0))"
   ]
  },
  {
   "cell_type": "code",
   "execution_count": 15,
   "metadata": {},
   "outputs": [
    {
     "name": "stdout",
     "output_type": "stream",
     "text": [
      "2.2734621919776812e+18\n",
      "<xarray.DataArray 'KE' ()>\n",
      "array(2.42875208e+18)\n",
      "Coordinates:\n",
      "    Time     float64 2.7e+03\n"
     ]
    }
   ],
   "source": [
    "print(np.nansum(KE))\n",
    "print(os.KE[-1].sum(axis=0))"
   ]
  },
  {
   "cell_type": "code",
   "execution_count": 92,
   "metadata": {},
   "outputs": [
    {
     "name": "stdout",
     "output_type": "stream",
     "text": [
      "<xarray.DataArray (yh: 4480, xh: 1920)>\n",
      "array([[nan, nan, nan, ..., nan, nan, nan],\n",
      "       [nan, nan, nan, ..., nan, nan, nan],\n",
      "       [nan, nan, nan, ..., nan, nan, nan],\n",
      "       ...,\n",
      "       [nan, nan, nan, ..., nan, nan, nan],\n",
      "       [nan, nan, nan, ..., nan, nan, nan],\n",
      "       [nan, nan, nan, ..., nan, nan, nan]])\n",
      "Coordinates:\n",
      "  * xh       (xh) float64 0.01562 0.04688 0.07812 0.1094 ... 59.92 59.95 59.98\n",
      "  * yh       (yh) float64 -69.98 -69.95 -69.92 -69.89 ... 69.92 69.95 69.98\n"
     ]
    }
   ],
   "source": [
    "KE_test = av['KE'][-1,:]\n",
    "print(np.nansum(KE_test)*1022.6*area_t*depth)"
   ]
  },
  {
   "cell_type": "code",
   "execution_count": null,
   "metadata": {},
   "outputs": [],
   "source": []
  }
 ],
 "metadata": {
  "kernelspec": {
   "display_name": "Python 3",
   "language": "python",
   "name": "python3"
  },
  "language_info": {
   "codemirror_mode": {
    "name": "ipython",
    "version": 3
   },
   "file_extension": ".py",
   "mimetype": "text/x-python",
   "name": "python",
   "nbconvert_exporter": "python",
   "pygments_lexer": "ipython3",
   "version": "3.7.9"
  }
 },
 "nbformat": 4,
 "nbformat_minor": 4
}
