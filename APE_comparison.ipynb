{
 "cells": [
  {
   "cell_type": "code",
   "execution_count": 1,
   "metadata": {},
   "outputs": [
    {
     "name": "stdin",
     "output_type": "stream",
     "text": [
      "Once deleted, variables cannot be recovered. Proceed (y/[n])?  y\n"
     ]
    }
   ],
   "source": [
    "%reset\n",
    "%matplotlib inline\n",
    "import numpy as np\n",
    "import matplotlib.pyplot as plt\n",
    "import xarray as xr\n",
    "import netCDF4 as nc\n",
    "from xgcm import Grid"
   ]
  },
  {
   "cell_type": "markdown",
   "metadata": {},
   "source": [
    "## We read in data that has been high-pass filtered using GCM-filters."
   ]
  },
  {
   "cell_type": "code",
   "execution_count": 15,
   "metadata": {},
   "outputs": [
    {
     "name": "stdout",
     "output_type": "stream",
     "text": [
      "/glade/campaign/univ/unyu0004/NeverWorld2/nw2_0.25deg_N15_baseline_hmix5\n",
      "available_diags.000000  longmean_00010050.nc         MOM_parameter_doc.layout\n",
      "averages_00030002.nc    longmean_00012050.nc         MOM_parameter_doc.short\n",
      "averages_00030502.nc    longmean_00014050.nc         ocean_geometry.nc\n",
      "averages_00031002.nc    longmean_00015050.nc         ocean_stats.nc\n",
      "averages_00031502.nc    longmean_00016050.nc         \u001b[0m\u001b[38;5;27mRESTART\u001b[0m/\n",
      "CPU_stats               longmean_00018050.nc         snapshots_00030005.nc\n",
      "\u001b[38;5;51mdiag_table\u001b[0m@             longmean_00020050.nc         snapshots_00030505.nc\n",
      "diag_table.final        longmean_00022050.nc         snapshots_00031005.nc\n",
      "diag_table.init         longmean_00024050.nc         snapshots_00031505.nc\n",
      "exitcode                longmean_00026050.nc         static.nc\n",
      "\u001b[38;5;27mINPUT\u001b[0m/                  longmean_00028050.nc         \u001b[38;5;27msub01\u001b[0m/\n",
      "input.nml               longmean_00030050.nc         \u001b[38;5;27msub02\u001b[0m/\n",
      "logfile.000000.out      MOM_IC.nc                    \u001b[38;5;27msub03\u001b[0m/\n",
      "longmean_00000050.nc    \u001b[38;5;51mMOM_input\u001b[0m@                   submit_cheyenne\n",
      "longmean_00002050.nc    \u001b[38;5;51mMOM_layout\u001b[0m@                  time_stamp.out\n",
      "longmean_00004050.nc    MOM_override                 Vertical_coordinate.nc\n",
      "longmean_00006050.nc    MOM_parameter_doc.all\n",
      "longmean_00008050.nc    MOM_parameter_doc.debugging\n",
      "/glade/p/univ/unyu0004/eyankovsky/NeverWorld_analysis\n"
     ]
    }
   ],
   "source": [
    "#1/4 degree resolution, surface diagnostics are for uppermost 5 meters.\n",
    "%cd /glade/p/univ/unyu0004/gmarques/NeverWorld2/baselines/nw2_0.25deg_N15_baseline_hmix5/\n",
    "%ls\n",
    "fs = xr.open_dataset('static.nc', decode_times=False)\n",
    "test= xr.open_dataset('MOM_IC.nc', decode_times=False)\n",
    "os = xr.open_mfdataset(['sub01/ocean.stats.nc','sub02/ocean.stats.nc'], decode_times=False)\n",
    "av = xr.open_dataset('/glade/scratch/noraloose/filtered_data/neverworld2-paper/baselines/nw2_0.25deg_N15_baseline_hmix5/av_f_high_Gaussian.nc', decode_times=False)\n",
    "\n",
    "# #1/8 degree resolution, surface diagnostics are for uppermost 5 meters.\n",
    "# %cd /glade/p/univ/unyu0004/gmarques/NeverWorld2/baselines/nw2_0.125deg_N15_baseline_hmix5/\n",
    "# fs = xr.open_dataset('static.nc', decode_times=False)\n",
    "# os = xr.open_mfdataset(['sub01/ocean.stats.nc','sub02/ocean.stats.nc'], decode_times=False)\n",
    "# av = xr.open_dataset('/glade/scratch/noraloose/filtered_data/neverworld2-paper/baselines/nw2_0.125deg_N15_baseline_hmix5/av_f_high_Gaussian.nc', decode_times=False)\n",
    "\n",
    "# # #1/16 degree resolution, surface diagnostics are for uppermost 5 meters.\n",
    "# %cd /glade/p/univ/unyu0004/gmarques/NeverWorld2/baselines/nw2_0.0625deg_N15_baseline_hmix5/\n",
    "# fs = xr.open_dataset('static.nc', decode_times=False)\n",
    "# os = xr.open_mfdataset(['sub01/ocean.stats.nc','sub02/ocean.stats.nc','sub03/ocean.stats.nc','sub04/ocean.stats.nc',\n",
    "#                          'sub05/ocean.stats.nc'], decode_times=False)\n",
    "# av = xr.open_dataset('/glade/scratch/noraloose/filtered_data/neverworld2-paper/baselines/nw2_0.0625deg_N15_baseline_hmix5/av_f_high_Gaussian.nc', decode_times=False)\n",
    "\n",
    "# #1/32 degree resolution, surface diagnostics are for uppermost 5 meters.\n",
    "# %cd /glade/p/univ/unyu0004/gmarques/NeverWorld2/baselines/nw2_0.03125deg_N15_baseline_hmix5\n",
    "# fs = xr.open_dataset('static.nc', decode_times=False)\n",
    "# os = xr.open_mfdataset(['sub01/ocean.stats.nc','sub02/ocean.stats.nc','sub03/ocean.stats.nc','sub04/ocean.stats.nc',\n",
    "#                         'sub05/ocean.stats.nc','sub06/ocean.stats.nc','sub07/ocean.stats.nc','sub08/ocean.stats.nc',\n",
    "#                         'sub09/ocean.stats.nc','sub10/ocean.stats.nc','sub11/ocean.stats.nc','sub12/ocean.stats.nc',\n",
    "#                         'sub13/ocean.stats.nc','sub14/ocean.stats.nc','sub15/ocean.stats.nc','sub16/ocean.stats.nc',\n",
    "#                         'sub17/ocean.stats.nc','sub18/ocean.stats.nc','sub19/ocean.stats.nc','sub20/ocean.stats.nc'], decode_times=False)\n",
    "# av = xr.open_dataset('/glade/scratch/noraloose/filtered_data/neverworld2-paper/baselines/nw2_0.03125deg_N15_baseline_hmix5/av_f_high_Gaussian.nc', decode_times=False)\n",
    "\n",
    "%cd /glade/p/univ/unyu0004/eyankovsky/NeverWorld_analysis/\n"
   ]
  },
  {
   "cell_type": "code",
   "execution_count": 16,
   "metadata": {},
   "outputs": [
    {
     "name": "stdout",
     "output_type": "stream",
     "text": [
      "<xarray.DataArray 'H0' (Interface: 15)>\n",
      "array([8.31083442e-11, 2.50000000e+01, 7.50000000e+01, 1.75000000e+02,\n",
      "       3.00000000e+02, 4.50000000e+02, 6.25000000e+02, 8.25000000e+02,\n",
      "       1.05000000e+03, 1.30000000e+03, 1.60000000e+03, 1.95000000e+03,\n",
      "       2.35000000e+03, 2.85000000e+03, 3.40000000e+03])\n",
      "Coordinates:\n",
      "  * Interface  (Interface) float64 1.022e+03 1.023e+03 ... 1.028e+03 1.028e+03\n"
     ]
    }
   ],
   "source": [
    "depth = fs['depth_ocean']\n",
    "area_t=fs['area_t']\n",
    "\n",
    "\n",
    "interface_ref=os['H0'].mean('Time').load(); interface_ref=interface_ref[:-1]\n",
    "Layer = (os['Layer']);\n",
    "drho=xr.zeros_like(interface_ref)\n",
    "drho[0]=Layer[0].values; drho[1:]=np.diff(Layer)\n",
    "print(interface_ref); #drho contains the density differences across each interface. 15 entries, includes surface but not bottom.\n"
   ]
  },
  {
   "cell_type": "code",
   "execution_count": 17,
   "metadata": {},
   "outputs": [],
   "source": [
    "h = (av['h'][:,:,:,:])\n",
    "correction = (interface_ref-depth); #if >0 this means h_ref is deeper than topography, we need correction!\n",
    "correction = correction.where(correction>0.0).fillna(0) #if correction <0 that means depth is larger than h_ref, we don't need correction!\n",
    "\n",
    "interface = xr.zeros_like(h)\n",
    "for t in range (0,100):\n",
    "    for i in range(0,len(Layer)):\n",
    "        interface[t,i,:,:]=h[t,i:,:,:].sum(axis=0)-depth\n",
    "        #interface is negative down\n",
    "    #print(t)\n",
    "interface_ref_HIC = interface_ref- correction\n",
    "interface_ref_HIC=interface_ref_HIC.rename({'Interface': 'zl'}) \n",
    "\n",
    "\n",
    "drho=drho.rename({'Interface': 'zl'})\n",
    "interface_ref_HIC.coords['zl'] = h['zl']; drho.coords['zl'] = h['zl']\n"
   ]
  },
  {
   "cell_type": "code",
   "execution_count": 18,
   "metadata": {},
   "outputs": [
    {
     "name": "stdout",
     "output_type": "stream",
     "text": [
      "done\n"
     ]
    }
   ],
   "source": [
    "eta2 = (interface+interface_ref_HIC)**2\n",
    "APE_net=(0.5*10*drho*eta2*area_t).sum('zl') #Gives units of Joules just like the os file.\n",
    "print('done')"
   ]
  },
  {
   "cell_type": "markdown",
   "metadata": {},
   "source": [
    "## The next line prints out the APE from our offline computation as well as the APE based on the model diagnostic (units Joules)"
   ]
  },
  {
   "cell_type": "code",
   "execution_count": 19,
   "metadata": {},
   "outputs": [
    {
     "name": "stdout",
     "output_type": "stream",
     "text": [
      "1.832003541669497e+20\n",
      "1.0640613739735328e+20\n"
     ]
    }
   ],
   "source": [
    "print(np.nansum(APE_net[-100:,:,:].mean('time'))) #Computed APE\n",
    "print(np.nansum(os.APE[-100:,:].mean('Time')))    #Model diagnostic APE\n"
   ]
  },
  {
   "cell_type": "code",
   "execution_count": 20,
   "metadata": {},
   "outputs": [],
   "source": [
    "u = (av['u'][:,:,:,:])\n",
    "v = (av['v'][:,:,:,:])\n",
    "\n",
    "KE=(0.5*(v**2+u**2)*h*area_t).sum('zl')"
   ]
  },
  {
   "cell_type": "code",
   "execution_count": null,
   "metadata": {},
   "outputs": [],
   "source": []
  },
  {
   "cell_type": "markdown",
   "metadata": {},
   "source": [
    "## The next line prints out the KE from our offline computation as well as the KE based on the model diagnostic (units Joules)\n"
   ]
  },
  {
   "cell_type": "code",
   "execution_count": 21,
   "metadata": {},
   "outputs": [
    {
     "name": "stdout",
     "output_type": "stream",
     "text": [
      "5.3135708159277114e+17\n",
      "5.95674968759358e+17\n"
     ]
    }
   ],
   "source": [
    "print(np.nansum(KE[-100:,:,:].mean('time'))*1000) #Computed EE\n",
    "print(np.nansum(os.KE[-100:,:].mean('Time')))    #Model diagnostic KE\n"
   ]
  },
  {
   "cell_type": "code",
   "execution_count": null,
   "metadata": {},
   "outputs": [],
   "source": []
  },
  {
   "cell_type": "code",
   "execution_count": null,
   "metadata": {},
   "outputs": [],
   "source": []
  }
 ],
 "metadata": {
  "kernelspec": {
   "display_name": "Python 3",
   "language": "python",
   "name": "python3"
  },
  "language_info": {
   "codemirror_mode": {
    "name": "ipython",
    "version": 3
   },
   "file_extension": ".py",
   "mimetype": "text/x-python",
   "name": "python",
   "nbconvert_exporter": "python",
   "pygments_lexer": "ipython3",
   "version": "3.7.9"
  }
 },
 "nbformat": 4,
 "nbformat_minor": 4
}
