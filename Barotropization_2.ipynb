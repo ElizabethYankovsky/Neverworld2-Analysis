{
 "cells": [
  {
   "cell_type": "code",
   "execution_count": 14,
   "metadata": {},
   "outputs": [
    {
     "name": "stdin",
     "output_type": "stream",
     "text": [
      "Once deleted, variables cannot be recovered. Proceed (y/[n])?  y\n"
     ]
    }
   ],
   "source": [
    "%reset\n",
    "import numpy as np\n",
    "from scipy.sparse import coo_matrix\n",
    "from scipy.sparse.linalg import eigs\n",
    "from scipy.integrate import cumtrapz\n",
    "import matplotlib.pyplot as plt\n",
    "import xarray as xr\n",
    "import cartopy.crs as ccrs\n",
    "import netCDF4 as nc\n",
    "import matplotlib.ticker as mticker\n",
    "import warnings; warnings.filterwarnings('ignore')\n",
    "from matplotlib.pyplot import cm\n",
    "import cmocean"
   ]
  },
  {
   "cell_type": "code",
   "execution_count": 15,
   "metadata": {},
   "outputs": [
    {
     "name": "stdout",
     "output_type": "stream",
     "text": [
      "/glade/p/univ/unyu0004/neerajab/NeverWorld2\n",
      "/glade/p/univ/unyu0004/eyankovsky/NeverWorld_analysis\n"
     ]
    }
   ],
   "source": [
    "%cd /glade/p/univ/unyu0004/neerajab/NeverWorld2/\n",
    "#run=20 #1/4 degree NeverWorld setup\n",
    "#run=26 #1/8 degree NeverWorld setup\n",
    "run=28 #1/16 degree NeverWorld setup\n",
    "fs=xr.open_dataset('run%i/static.nc' % (run), decode_times=False)\n",
    "os=xr.open_dataset('run%i/ocean.stats.nc' % (run), decode_times=False)\n",
    "forcing=xr.open_dataset('run%i/forcing_00000500.nc' % (run), decode_times=False)\n",
    "tau = 500*86400\n",
    "end_time = 30500\n",
    "start_time = end_time - tau/86400\n",
    "#sn     = xr.open_dataset('run%i/snapshots_000%i.nc' % (run, end_time-500+5), decode_times=False) #snapshot\n",
    "av     = xr.open_dataset('run%i/averages_000%i.nc' % (run, end_time-500+2), decode_times=False)  #5-day average\n",
    "%cd /glade/p/univ/unyu0004/eyankovsky/NeverWorld_analysis/"
   ]
  },
  {
   "cell_type": "code",
   "execution_count": 16,
   "metadata": {},
   "outputs": [
    {
     "name": "stdout",
     "output_type": "stream",
     "text": [
      "done 0\n",
      "done 1\n",
      "done 2\n",
      "(100, 15, 2240, 960)\n",
      "done\n"
     ]
    }
   ],
   "source": [
    "#COMPUTE KE AND THEN WEIGH BY THICKNESS\n",
    "Nlayers=15\n",
    "lon=fs['geolon']; lat=fs['geolat']\n",
    "depth = fs['depth_ocean']\n",
    "xh_sixteenth = fs.xh.values\n",
    "yh_sixteenth = fs.yh.values\n",
    "\n",
    "h  = np.array(av['h'][:,:,:,:]);\n",
    "Interface = np.array(os['Interface']); drho=np.diff(Interface)\n",
    "drhomat=np.transpose(np.tile(drho,[100,len(yh_sixteenth),len(xh_sixteenth),1]),(0,3,1,2)); \n",
    "drhodz=drhomat/h\n",
    "N2=(9.81/1025.)*drhodz\n",
    "#N2[N2>1.e-3] =np.nan \n",
    "mask=N2*0.0+1.0\n",
    "\n",
    "print('done 0')\n",
    "#Outputs are comprised of 20 5-day averages.\n",
    "u  = np.array(av['u'][:,:,:,:]); u = 0.5*(u[:,:,:,1:]+u[:,:,:,:-1]); u[np.isnan(u)]=0;\n",
    "v  = np.array(av['v'][:,:,:,:]); v = 0.5*(v[:,:,1:,:]+v[:,:,:-1,:]); v[np.isnan(v)]=0;\n",
    "print('done 1')\n",
    "h[np.isnan(h)]=0.0\n",
    "#Filtering out places where N2 is large\n",
    "u  = u*mask; v  = v*mask; h = h*mask\n",
    "Depth_4D=np.transpose(np.tile(np.nansum(h,axis=1),[Nlayers,1,1,1]),(1,0,2,3))\n",
    "print('done 2')\n",
    "#Compute thickness-weighted velocities at each layer\n",
    "TW_u = u*h/Depth_4D; TW_v = v*h/Depth_4D;\n",
    "#Computing barotropic velocities, as depth-mean, thickness-weighted velocities\n",
    "BT_u = np.transpose(np.tile(np.nansum(TW_u,axis=1),[Nlayers,1,1,1]),(1,0,2,3));\n",
    "BT_v = np.transpose(np.tile(np.nansum(TW_v,axis=1),[Nlayers,1,1,1]),(1,0,2,3));\n",
    "# #Baroclinic velocities as difference between raw and BT velocities:\n",
    "#BC_u = u-BT_u; BC_v = v-BT_v;\n",
    "\n",
    "#Total kinetic energy based on thickness-weighted velocity:\n",
    "KE_tot = (0.5*(u)**2 + 0.5*(v)**2)*h/Depth_4D;\n",
    "#Barotropic kinetic energy:\n",
    "KE_BT_tot = (0.5*(BT_u)**2 + 0.5*(BT_v)**2)*h/Depth_4D; \n",
    "\n",
    "#METHOD 1 for baroclinic KE: \n",
    "KE_BC_tot_1 = (KE_tot-KE_BT_tot);\n",
    "\n",
    "print(KE_tot.shape)\n",
    "print('done')"
   ]
  },
  {
   "cell_type": "code",
   "execution_count": 17,
   "metadata": {},
   "outputs": [
    {
     "name": "stdout",
     "output_type": "stream",
     "text": [
      "(2240, 960)\n"
     ]
    }
   ],
   "source": [
    "#Summing quantities to be plotted in depth, then averaging in time (order doesn't matter)\n",
    "\n",
    "Rd_dx_sixteenth= np.nanmean(np.array(av['Rd_dx'][:,:,:]),axis=0)\n",
    "KE_tot_sixteenth=np.nanmean(np.nansum(KE_tot,axis=1),axis=0) \n",
    "KE_BT_tot_sixteenth=np.nanmean(np.nansum(KE_BT_tot,axis=1),axis=0) \n",
    "\n",
    "fraction_BT_sixteenth=KE_BT_tot_sixteenth/KE_tot_sixteenth\n",
    "print(Rd_dx_sixteenth.shape)"
   ]
  },
  {
   "cell_type": "code",
   "execution_count": null,
   "metadata": {},
   "outputs": [],
   "source": []
  },
  {
   "cell_type": "code",
   "execution_count": 18,
   "metadata": {},
   "outputs": [
    {
     "name": "stdout",
     "output_type": "stream",
     "text": [
      "/glade/p/univ/unyu0004/neerajab/NeverWorld2\n",
      "/glade/p/univ/unyu0004/eyankovsky/NeverWorld_analysis\n"
     ]
    }
   ],
   "source": [
    "%cd /glade/p/univ/unyu0004/neerajab/NeverWorld2/\n",
    "#run=20 #1/4 degree NeverWorld setup\n",
    "run=26 #1/8 degree NeverWorld setup\n",
    "#run=28 #1/16 degree NeverWorld setup\n",
    "fs=xr.open_dataset('run%i/static.nc' % (run), decode_times=False)\n",
    "os=xr.open_dataset('run%i/ocean.stats.nc' % (run), decode_times=False)\n",
    "forcing=xr.open_dataset('run%i/forcing_00000500.nc' % (run), decode_times=False)\n",
    "tau = 500*86400\n",
    "end_time = 30500\n",
    "start_time = end_time - tau/86400\n",
    "#sn     = xr.open_dataset('run%i/snapshots_000%i.nc' % (run, end_time-500+5), decode_times=False) #snapshot\n",
    "av     = xr.open_dataset('run%i/averages_000%i.nc' % (run, end_time-500+2), decode_times=False)  #5-day average\n",
    "%cd /glade/p/univ/unyu0004/eyankovsky/NeverWorld_analysis/"
   ]
  },
  {
   "cell_type": "code",
   "execution_count": 19,
   "metadata": {},
   "outputs": [
    {
     "name": "stdout",
     "output_type": "stream",
     "text": [
      "done 0\n",
      "done 1\n",
      "done 2\n",
      "(100, 15, 1120, 480)\n",
      "done\n"
     ]
    }
   ],
   "source": [
    "#COMPUTE KE AND THEN WEIGH BY THICKNESS\n",
    "Nlayers=15\n",
    "lon=fs['geolon']; lat=fs['geolat']\n",
    "depth = fs['depth_ocean']\n",
    "xh_eighth = fs.xh.values\n",
    "yh_eighth = fs.yh.values\n",
    "\n",
    "h  = np.array(av['h'][:,:,:,:]);\n",
    "Interface = np.array(os['Interface']); drho=np.diff(Interface)\n",
    "drhomat=np.transpose(np.tile(drho,[100,len(yh_eighth),len(xh_eighth),1]),(0,3,1,2)); \n",
    "drhodz=drhomat/h\n",
    "N2=(9.81/1025.)*drhodz\n",
    "#N2[N2>1.e-3] =np.nan \n",
    "mask=N2*0.0+1.0\n",
    "\n",
    "print('done 0')\n",
    "#Outputs are comprised of 20 5-day averages.\n",
    "u  = np.array(av['u'][:,:,:,:]); u = 0.5*(u[:,:,:,1:]+u[:,:,:,:-1]); u[np.isnan(u)]=0;\n",
    "v  = np.array(av['v'][:,:,:,:]); v = 0.5*(v[:,:,1:,:]+v[:,:,:-1,:]); v[np.isnan(v)]=0;\n",
    "print('done 1')\n",
    "h[np.isnan(h)]=0.0\n",
    "#Filtering out places where N2 is large\n",
    "u  = u*mask; v  = v*mask; h = h*mask\n",
    "Depth_4D=np.transpose(np.tile(np.nansum(h,axis=1),[Nlayers,1,1,1]),(1,0,2,3))\n",
    "print('done 2')\n",
    "#Compute thickness-weighted velocities at each layer\n",
    "TW_u = u*h/Depth_4D; TW_v = v*h/Depth_4D;\n",
    "#Computing barotropic velocities, as depth-mean, thickness-weighted velocities\n",
    "BT_u = np.transpose(np.tile(np.nansum(TW_u,axis=1),[Nlayers,1,1,1]),(1,0,2,3));\n",
    "BT_v = np.transpose(np.tile(np.nansum(TW_v,axis=1),[Nlayers,1,1,1]),(1,0,2,3));\n",
    "# #Baroclinic velocities as difference between raw and BT velocities:\n",
    "#BC_u = u-BT_u; BC_v = v-BT_v;\n",
    "\n",
    "#Total kinetic energy based on thickness-weighted velocity:\n",
    "KE_tot = (0.5*(u)**2 + 0.5*(v)**2)*h/Depth_4D;\n",
    "#Barotropic kinetic energy:\n",
    "KE_BT_tot = (0.5*(BT_u)**2 + 0.5*(BT_v)**2)*h/Depth_4D; \n",
    "\n",
    "#METHOD 1 for baroclinic KE: \n",
    "KE_BC_tot_1 = (KE_tot-KE_BT_tot);\n",
    "\n",
    "print(KE_tot.shape)\n",
    "print('done')"
   ]
  },
  {
   "cell_type": "code",
   "execution_count": 20,
   "metadata": {},
   "outputs": [
    {
     "name": "stdout",
     "output_type": "stream",
     "text": [
      "(1120, 480)\n"
     ]
    }
   ],
   "source": [
    "#Summing quantities to be plotted in depth, then averaging in time (order doesn't matter)\n",
    "\n",
    "Rd_dx_eighth= np.nanmean(np.array(av['Rd_dx'][:,:,:]),axis=0)\n",
    "KE_tot_eighth=np.nanmean(np.nansum(KE_tot,axis=1),axis=0) \n",
    "KE_BT_tot_eighth=np.nanmean(np.nansum(KE_BT_tot,axis=1),axis=0) \n",
    "\n",
    "fraction_BT_eighth=KE_BT_tot_eighth/KE_tot_eighth\n",
    "print(Rd_dx_eighth.shape)"
   ]
  },
  {
   "cell_type": "code",
   "execution_count": null,
   "metadata": {},
   "outputs": [],
   "source": []
  },
  {
   "cell_type": "code",
   "execution_count": null,
   "metadata": {},
   "outputs": [],
   "source": []
  },
  {
   "cell_type": "code",
   "execution_count": null,
   "metadata": {},
   "outputs": [],
   "source": []
  },
  {
   "cell_type": "code",
   "execution_count": 21,
   "metadata": {},
   "outputs": [
    {
     "name": "stdout",
     "output_type": "stream",
     "text": [
      "/glade/p/univ/unyu0004/neerajab/NeverWorld2\n",
      "/glade/p/univ/unyu0004/eyankovsky/NeverWorld_analysis\n"
     ]
    }
   ],
   "source": [
    "%cd /glade/p/univ/unyu0004/neerajab/NeverWorld2/\n",
    "run=20 #1/4 degree NeverWorld setup\n",
    "#run=26 #1/8 degree NeverWorld setup\n",
    "#run=28 #1/16 degree NeverWorld setup\n",
    "fs=xr.open_dataset('run%i/static.nc' % (run), decode_times=False)\n",
    "os=xr.open_dataset('run%i/ocean.stats.nc' % (run), decode_times=False)\n",
    "forcing=xr.open_dataset('run%i/forcing_00000500.nc' % (run), decode_times=False)\n",
    "tau = 500*86400\n",
    "end_time = 30500\n",
    "start_time = end_time - tau/86400\n",
    "#sn     = xr.open_dataset('run%i/snapshots_000%i.nc' % (run, end_time-500+5), decode_times=False) #snapshot\n",
    "av     = xr.open_dataset('run%i/averages_000%i.nc' % (run, end_time-500+2), decode_times=False)  #5-day average\n",
    "%cd /glade/p/univ/unyu0004/eyankovsky/NeverWorld_analysis/"
   ]
  },
  {
   "cell_type": "code",
   "execution_count": 22,
   "metadata": {},
   "outputs": [
    {
     "name": "stdout",
     "output_type": "stream",
     "text": [
      "done 0\n",
      "done 1\n",
      "done 2\n",
      "(100, 15, 560, 240)\n",
      "done\n"
     ]
    }
   ],
   "source": [
    "#COMPUTE KE AND THEN WEIGH BY THICKNESS\n",
    "Nlayers=15\n",
    "lon=fs['geolon']; lat=fs['geolat']\n",
    "depth = fs['depth_ocean']\n",
    "xh_quarter = fs.xh.values\n",
    "yh_quarter = fs.yh.values\n",
    "\n",
    "h  = np.array(av['h'][:,:,:,:]);\n",
    "Interface = np.array(os['Interface']); drho=np.diff(Interface)\n",
    "drhomat=np.transpose(np.tile(drho,[100,len(yh_quarter),len(xh_quarter),1]),(0,3,1,2)); \n",
    "drhodz=drhomat/h\n",
    "N2=(9.81/1025.)*drhodz\n",
    "#N2[N2>1.e-3] =np.nan \n",
    "mask=N2*0.0+1.0\n",
    "\n",
    "print('done 0')\n",
    "#Outputs are comprised of 20 5-day averages.\n",
    "u  = np.array(av['u'][:,:,:,:]); u = 0.5*(u[:,:,:,1:]+u[:,:,:,:-1]); u[np.isnan(u)]=0;\n",
    "v  = np.array(av['v'][:,:,:,:]); v = 0.5*(v[:,:,1:,:]+v[:,:,:-1,:]); v[np.isnan(v)]=0;\n",
    "print('done 1')\n",
    "h[np.isnan(h)]=0.0\n",
    "#Filtering out places where N2 is large\n",
    "u  = u*mask; v  = v*mask; h = h*mask\n",
    "Depth_4D=np.transpose(np.tile(np.nansum(h,axis=1),[Nlayers,1,1,1]),(1,0,2,3))\n",
    "print('done 2')\n",
    "#Compute thickness-weighted velocities at each layer\n",
    "TW_u = u*h/Depth_4D; TW_v = v*h/Depth_4D;\n",
    "#Computing barotropic velocities, as depth-mean, thickness-weighted velocities\n",
    "BT_u = np.transpose(np.tile(np.nansum(TW_u,axis=1),[Nlayers,1,1,1]),(1,0,2,3));\n",
    "BT_v = np.transpose(np.tile(np.nansum(TW_v,axis=1),[Nlayers,1,1,1]),(1,0,2,3));\n",
    "# #Baroclinic velocities as difference between raw and BT velocities:\n",
    "#BC_u = u-BT_u; BC_v = v-BT_v;\n",
    "\n",
    "#Total kinetic energy based on thickness-weighted velocity:\n",
    "KE_tot = (0.5*(u)**2 + 0.5*(v)**2)*h/Depth_4D;\n",
    "#Barotropic kinetic energy:\n",
    "KE_BT_tot = (0.5*(BT_u)**2 + 0.5*(BT_v)**2)*h/Depth_4D; \n",
    "\n",
    "#METHOD 1 for baroclinic KE: \n",
    "KE_BC_tot_1 = (KE_tot-KE_BT_tot);\n",
    "\n",
    "print(KE_tot.shape)\n",
    "print('done')"
   ]
  },
  {
   "cell_type": "code",
   "execution_count": null,
   "metadata": {},
   "outputs": [],
   "source": []
  },
  {
   "cell_type": "code",
   "execution_count": 23,
   "metadata": {},
   "outputs": [
    {
     "name": "stdout",
     "output_type": "stream",
     "text": [
      "(560, 240)\n"
     ]
    }
   ],
   "source": [
    "#Summing quantities to be plotted in depth, then averaging in time (order doesn't matter)\n",
    "\n",
    "Rd_dx_quarter= np.nanmean(np.array(av['Rd_dx'][:,:,:]),axis=0)\n",
    "KE_tot_quarter=np.nanmean(np.nansum(KE_tot,axis=1),axis=0) \n",
    "KE_BT_tot_quarter=np.nanmean(np.nansum(KE_BT_tot,axis=1),axis=0)\n",
    "\n",
    "fraction_BT_quarter=KE_BT_tot_quarter/KE_tot_quarter\n",
    "print(Rd_dx_quarter.shape)\n"
   ]
  },
  {
   "cell_type": "code",
   "execution_count": null,
   "metadata": {},
   "outputs": [],
   "source": [
    "#Variables of interest are Rd_dx_quarter, fraction_BT_quarter, fraction_BC_quarter\n",
    "                        #  Rd_dx_eighth,  fraction_BT_eighth,  fraction_BC_eighth\n"
   ]
  },
  {
   "cell_type": "code",
   "execution_count": null,
   "metadata": {},
   "outputs": [],
   "source": []
  },
  {
   "cell_type": "code",
   "execution_count": 45,
   "metadata": {},
   "outputs": [
    {
     "name": "stdout",
     "output_type": "stream",
     "text": [
      "(1120, 480)\n",
      "(561, 241)\n"
     ]
    }
   ],
   "source": [
    "#INTERPOLATING ONTO COARSE GRID\n",
    "\n",
    "from scipy.interpolate import interp2d\n",
    "\n",
    "x_coarse = np.linspace(0,60,241)\n",
    "y_coarse = np.linspace(-70,70,561)\n",
    "\n",
    "Rd_dx_sixteenth[np.isnan(Rd_dx_sixteenth)]=0.0\n",
    "Rd_dx_eighth[np.isnan(Rd_dx_eighth)]=0.0\n",
    "Rd_dx_quarter[np.isnan(Rd_dx_quarter)]=0.0\n",
    "\n",
    "\n",
    "f1 = interp2d(xh_eighth, yh_eighth, Rd_dx_eighth); \n",
    "Rd_dx_eighth_interp = f1(x_coarse, y_coarse);\n",
    "f11 = interp2d(xh_quarter, yh_quarter, Rd_dx_quarter); \n",
    "Rd_dx_quarter_interp = f11(x_coarse, y_coarse);\n",
    "f111 = interp2d(xh_sixteenth, yh_sixteenth, Rd_dx_sixteenth); \n",
    "Rd_dx_sixteenth_interp = f111(x_coarse, y_coarse);\n",
    "\n",
    "fraction_BT_sixteenth[np.isnan(fraction_BT_sixteenth)]=0.0\n",
    "fraction_BT_eighth[np.isnan(fraction_BT_eighth)]=0.0\n",
    "fraction_BT_quarter[np.isnan(fraction_BT_quarter)]=0.0\n",
    "\n",
    "f2 = interp2d(xh_eighth, yh_eighth, fraction_BT_eighth); \n",
    "fraction_BT_eighth_interp = f2(x_coarse, y_coarse);\n",
    "f22 = interp2d(xh_quarter, yh_quarter, fraction_BT_quarter); \n",
    "fraction_BT_quarter_interp = f22(x_coarse, y_coarse);\n",
    "f222 = interp2d(xh_sixteenth, yh_sixteenth, fraction_BT_sixteenth); \n",
    "fraction_BT_sixteenth_interp = f222(x_coarse, y_coarse);\n",
    "\n",
    "\n",
    "print(Rd_dx_eighth.shape)\n",
    "print(Rd_dx_eighth_interp.shape)"
   ]
  },
  {
   "cell_type": "code",
   "execution_count": null,
   "metadata": {},
   "outputs": [],
   "source": [
    "#AVERAGING ONTO COARSE GRID to get 2x2 degree boxes. \n",
    "#originally 1/4 deg. sim is 560x240... we're degrading to a 70 x 30 box. Also do that with lon/lat for plotting\n"
   ]
  },
  {
   "cell_type": "code",
   "execution_count": 63,
   "metadata": {},
   "outputs": [
    {
     "data": {
      "text/plain": [
       "(561, 241)"
      ]
     },
     "execution_count": 63,
     "metadata": {},
     "output_type": "execute_result"
    }
   ],
   "source": [
    "fraction_BT_sixteenth_interp.shape"
   ]
  },
  {
   "cell_type": "code",
   "execution_count": 87,
   "metadata": {},
   "outputs": [
    {
     "data": {
      "image/png": "[encoded data removed]",
      "text/plain": [
       "<Figure size 960x560 with 1 Axes>"
      ]
     },
     "metadata": {},
     "output_type": "display_data"
    }
   ],
   "source": [
    "mask = np.nan*np.zeros([561,241]); #[200:360]=np.nan is -20 to +20\n",
    "mask1=np.nan*np.zeros([561,241]); mask2=np.nan*np.zeros([561,241]); mask3=np.nan*np.zeros([561,241]); \n",
    "mask4=np.nan*np.zeros([561,241]); mask5=np.nan*np.zeros([561,241]); mask6=np.nan*np.zeros([561,241])\n",
    "mask1[476:484,56:64]=1.;\n",
    "mask2[476:484,176:184]=1.;\n",
    "mask3[156:164,116:124]= 1.;\n",
    "mask4[76:84,116:124]  = 1.;\n",
    "mask5[396:404,116:124]=1.\n",
    "mask6[76:84,176:184]  =1.\n",
    "fig = plt.figure(figsize=(12, 7), dpi= 80, facecolor='w', edgecolor='k')\n",
    "\n",
    "\n",
    "fraction_BT_sixteenth_interp[fraction_BT_sixteenth_interp==0]=np.nan\n",
    "sixteenth_final1=np.nanmean(fraction_BT_sixteenth_interp*mask1);\n",
    "Ratio_sixteenth1=np.nanmean(Rd_dx_sixteenth_interp[:,:]*mask1)\n",
    "sixteenth_final2=np.nanmean(fraction_BT_sixteenth_interp*mask2);\n",
    "Ratio_sixteenth2=np.nanmean(Rd_dx_sixteenth_interp[:,:]*mask2)\n",
    "sixteenth_final3=np.nanmean(fraction_BT_sixteenth_interp*mask3);\n",
    "Ratio_sixteenth3=np.nanmean(Rd_dx_sixteenth_interp[:,:]*mask3)\n",
    "sixteenth_final4=np.nanmean(fraction_BT_sixteenth_interp*mask4);\n",
    "Ratio_sixteenth4=np.nanmean(Rd_dx_sixteenth_interp[:,:]*mask4)\n",
    "sixteenth_final5=np.nanmean(fraction_BT_sixteenth_interp*mask5);\n",
    "Ratio_sixteenth5=np.nanmean(Rd_dx_sixteenth_interp[:,:]*mask5)\n",
    "sixteenth_final6=np.nanmean(fraction_BT_sixteenth_interp*mask6);\n",
    "Ratio_sixteenth6=np.nanmean(Rd_dx_sixteenth_interp[:,:]*mask6)\n",
    "\n",
    "fraction_BT_eighth_interp[fraction_BT_eighth_interp==0]=np.nan\n",
    "eighth_final1=np.nanmean(fraction_BT_eighth_interp*mask1);\n",
    "Ratio_eighth1=np.nanmean(Rd_dx_eighth_interp[:,:]*mask1);\n",
    "eighth_final2=np.nanmean(fraction_BT_eighth_interp*mask2);\n",
    "Ratio_eighth2=np.nanmean(Rd_dx_eighth_interp[:,:]*mask2);\n",
    "eighth_final3=np.nanmean(fraction_BT_eighth_interp*mask3);\n",
    "Ratio_eighth3=np.nanmean(Rd_dx_eighth_interp[:,:]*mask3);\n",
    "eighth_final4=np.nanmean(fraction_BT_eighth_interp*mask4);\n",
    "Ratio_eighth4=np.nanmean(Rd_dx_eighth_interp[:,:]*mask4);\n",
    "eighth_final5=np.nanmean(fraction_BT_eighth_interp*mask5);\n",
    "Ratio_eighth5=np.nanmean(Rd_dx_eighth_interp[:,:]*mask5);\n",
    "eighth_final6=np.nanmean(fraction_BT_eighth_interp*mask6);\n",
    "Ratio_eighth6=np.nanmean(Rd_dx_eighth_interp[:,:]*mask6);\n",
    "\n",
    "fraction_BT_quarter_interp[fraction_BT_quarter_interp==0]=np.nan\n",
    "quarter_final1=np.nanmean(fraction_BT_quarter_interp*mask1);\n",
    "Ratio_quarter1=np.nanmean(Rd_dx_quarter_interp[:,:]*mask1)\n",
    "quarter_final2=np.nanmean(fraction_BT_quarter_interp*mask2);\n",
    "Ratio_quarter2=np.nanmean(Rd_dx_quarter_interp[:,:]*mask2)\n",
    "quarter_final3=np.nanmean(fraction_BT_quarter_interp*mask3);\n",
    "Ratio_quarter3=np.nanmean(Rd_dx_quarter_interp[:,:]*mask3)\n",
    "quarter_final4=np.nanmean(fraction_BT_quarter_interp*mask4);\n",
    "Ratio_quarter4=np.nanmean(Rd_dx_quarter_interp[:,:]*mask4)\n",
    "quarter_final5=np.nanmean(fraction_BT_quarter_interp*mask5);\n",
    "Ratio_quarter5=np.nanmean(Rd_dx_quarter_interp[:,:]*mask5)\n",
    "quarter_final6=np.nanmean(fraction_BT_quarter_interp*mask6);\n",
    "Ratio_quarter6=np.nanmean(Rd_dx_quarter_interp[:,:]*mask6)\n",
    "\n",
    "h1=plt.plot([Ratio_quarter1,Ratio_eighth1,Ratio_sixteenth1],[quarter_final1,eighth_final1,sixteenth_final1],'-*',color='#00e6ac',markersize=25,linewidth=5)\n",
    "\n",
    "h2=plt.plot([Ratio_quarter2,Ratio_eighth2,Ratio_sixteenth2],[quarter_final2,eighth_final2,sixteenth_final2],'-*',color='#ffc34d',markersize=25,linewidth=5)\n",
    "\n",
    "h3=plt.plot([Ratio_quarter3,Ratio_eighth3,Ratio_sixteenth3],[quarter_final3,eighth_final3,sixteenth_final3],'-*',color='#ff3333',markersize=25,linewidth=5)\n",
    "\n",
    "h4=plt.plot([Ratio_quarter4,Ratio_eighth4,Ratio_sixteenth4],[quarter_final4,eighth_final4,sixteenth_final4],'-*',color='#4da6ff',markersize=25,linewidth=5)\n",
    "\n",
    "h5=plt.plot([Ratio_quarter5,Ratio_eighth5,Ratio_sixteenth5],[quarter_final5,eighth_final5,sixteenth_final5],'-*',color='#ff66ff',markersize=25,linewidth=5)\n",
    "\n",
    "h6=plt.plot([Ratio_quarter6,Ratio_eighth6,Ratio_sixteenth6],[quarter_final6,eighth_final6,sixteenth_final6],'-*',color='#0033cc',markersize=25,linewidth=5)\n",
    "\n",
    "plt.xlabel('Rd_dx',fontsize=18)\n",
    "plt.ylabel('KE_BT fraction',fontsize=18)\n",
    "plt.xticks(fontsize=18); plt.yticks(fontsize=18)\n",
    "#plt.plot([0,50],[0,0],'k')\n",
    "plt.ylim([0,1])\n",
    "#plt.xlim([0,5])\n",
    "\n",
    "#plt.legend((h1[1],h2[1],h3[1]),('1/4 deg.','1/8 deg.','1/16 deg.'),prop={'size': 18})\n",
    "plt.grid()"
   ]
  },
  {
   "cell_type": "code",
   "execution_count": 67,
   "metadata": {},
   "outputs": [
    {
     "name": "stdout",
     "output_type": "stream",
     "text": [
      "0.7091802565404016\n"
     ]
    }
   ],
   "source": [
    "print(np.nanmean(fraction_BT_sixteenth_interp*mask1))\n"
   ]
  },
  {
   "cell_type": "code",
   "execution_count": null,
   "metadata": {},
   "outputs": [],
   "source": []
  },
  {
   "cell_type": "code",
   "execution_count": null,
   "metadata": {},
   "outputs": [],
   "source": []
  },
  {
   "cell_type": "code",
   "execution_count": 82,
   "metadata": {},
   "outputs": [
    {
     "data": {
      "image/png": "[encoded data removed]",
      "text/plain": [
       "<Figure size 320x560 with 2 Axes>"
      ]
     },
     "metadata": {},
     "output_type": "display_data"
    }
   ],
   "source": [
    "#Plotting ocean depth\n",
    "fig = plt.figure(figsize=(4, 7), dpi= 80, facecolor='w', edgecolor='k')\n",
    "ax1 = fig.add_axes([0.15,0.2,0.6,0.7]) \n",
    "ax2 = fig.add_axes([.78, 0.2, 0.03, 0.7])\n",
    "ax1.set_facecolor((0.92, 0.92, 0.92))\n",
    "ax1.set_title('Ocean depth (m)',fontsize=20)\n",
    "ax1.set_xlabel('Longitude',fontsize=16)\n",
    "ax1.set_ylabel('Latitude',fontsize=16)\n",
    "ax1.tick_params(labelsize=16); \n",
    "ax2.tick_params(labelsize=14)\n",
    "\n",
    "plotted =ax1.pcolor(xh_quarter,yh_quarter,depth,cmap=cm.pink_r)\n",
    "ax1.plot(xh_quarter[60],yh_quarter[480],'*',markersize=25,color='#00e6ac')\n",
    "ax1.plot(xh_quarter[180],yh_quarter[480],'*',markersize=25,color='#ffc34d')\n",
    "ax1.plot(xh_quarter[120],yh_quarter[160],'*',markersize=25,color='#ff3333')\n",
    "ax1.plot(xh_quarter[120],yh_quarter[80],'*',markersize=25,color='#4da6ff')\n",
    "\n",
    "ax1.plot(xh_quarter[120],yh_quarter[400],'*',markersize=25,color='#ff66ff')\n",
    "ax1.plot(xh_quarter[180],yh_quarter[80],'*',markersize=25,color='#0033cc')\n",
    "ax1.set_aspect('equal', 'box')\n",
    "cbar = plt.colorbar(mappable=plotted, cax=ax2, orientation = 'vertical');\n",
    "cbar.ax.tick_params(labelsize=14);\n",
    "#\n",
    "plt.show()\n",
    "#fig.savefig('topography.png')"
   ]
  },
  {
   "cell_type": "code",
   "execution_count": 29,
   "metadata": {},
   "outputs": [],
   "source": [
    "# mask = np.nan*np.zeros([141,61]); #[200:360]=np.nan is -20 to +20\n",
    "# mask[60:81,:]=1.0\n",
    "\n",
    "# fig = plt.figure(figsize=(12, 7), dpi= 80, facecolor='w', edgecolor='k')\n",
    "\n",
    "# Ratio_sixteenth=Rd_dx_sixteenth_interp[:,:]\n",
    "# Ratio_eighth=Rd_dx_eighth_interp[:,:]\n",
    "# Ratio_quarter=Rd_dx_quarter_interp[:,:]\n",
    "# fraction_BT_sixteenth_interp[fraction_BT_sixteenth_interp==0]=np.nan\n",
    "# fraction_BT_eighth_interp[fraction_BT_eighth_interp==0]=np.nan\n",
    "# fraction_BT_quarter_interp[fraction_BT_quarter_interp==0]=np.nan\n",
    "\n",
    "# sixteenth_final=fraction_BT_sixteenth_interp*mask;\n",
    "# eighth_final=fraction_BT_eighth_interp*mask;\n",
    "# quarter_final=fraction_BT_quarter_interp*mask;\n",
    "# #Either plot Ratio or Rd_dx, see which has better correlation.\n",
    "# #Rd_dx[Rd_dx<10.]=np.nan\n",
    "# h1=plt.plot((Ratio_quarter),(quarter_final),'*',color='#ffbb33')\n",
    "# h2=plt.plot((Ratio_eighth),(eighth_final),'*',color='#ff0066')\n",
    "# h3=plt.plot((Ratio_sixteenth),(sixteenth_final),'*',color='#6666ff')\n",
    "# plt.xlabel('Rd_dx',fontsize=18)\n",
    "# plt.ylabel('KE_BT fraction',fontsize=18)\n",
    "# plt.plot([0,50],[0,0],'k')\n",
    "# #plt.ylim([0,1])\n",
    "# #plt.xlim([0,5])\n",
    "\n",
    "# plt.legend((h1[1],h2[1],h3[1]),('1/4 deg.','1/8 deg.','1/16 deg.'),prop={'size': 18})\n",
    "# plt.grid()"
   ]
  },
  {
   "cell_type": "code",
   "execution_count": null,
   "metadata": {},
   "outputs": [],
   "source": []
  },
  {
   "cell_type": "code",
   "execution_count": null,
   "metadata": {},
   "outputs": [],
   "source": []
  },
  {
   "cell_type": "code",
   "execution_count": null,
   "metadata": {},
   "outputs": [],
   "source": []
  },
  {
   "cell_type": "code",
   "execution_count": null,
   "metadata": {},
   "outputs": [],
   "source": []
  },
  {
   "cell_type": "code",
   "execution_count": null,
   "metadata": {},
   "outputs": [],
   "source": []
  },
  {
   "cell_type": "code",
   "execution_count": null,
   "metadata": {},
   "outputs": [],
   "source": []
  }
 ],
 "metadata": {
  "kernelspec": {
   "display_name": "Python 3",
   "language": "python",
   "name": "python3"
  },
  "language_info": {
   "codemirror_mode": {
    "name": "ipython",
    "version": 3
   },
   "file_extension": ".py",
   "mimetype": "text/x-python",
   "name": "python",
   "nbconvert_exporter": "python",
   "pygments_lexer": "ipython3",
   "version": "3.7.5"
  }
 },
 "nbformat": 4,
 "nbformat_minor": 4
}
